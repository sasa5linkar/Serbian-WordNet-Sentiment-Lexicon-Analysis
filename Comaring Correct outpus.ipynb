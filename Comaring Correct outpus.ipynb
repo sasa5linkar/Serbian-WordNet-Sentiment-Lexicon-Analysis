{
 "cells": [
  {
   "cell_type": "code",
   "execution_count": 1,
   "id": "d306a8dd-caaf-496d-adc9-64085f171a27",
   "metadata": {},
   "outputs": [],
   "source": [
    "import TestLLM"
   ]
  },
  {
   "cell_type": "code",
   "execution_count": 2,
   "id": "b74f6c13-8786-4a71-ad9c-c32e8d7f5174",
   "metadata": {},
   "outputs": [
    {
     "name": "stderr",
     "output_type": "stream",
     "text": [
      "WARNING[XFORMERS]: xFormers can't load C++/CUDA extensions. xFormers was built for:\n",
      "    PyTorch 2.0.1+cu118 with CUDA 1108 (you have 2.2.0.dev20230928)\n",
      "    Python  3.11.5 (you have 3.11.4)\n",
      "  Please reinstall xformers (see https://github.com/facebookresearch/xformers#installing-xformers)\n",
      "  Memory-efficient attention, SwiGLU, sparse and more won't be available.\n",
      "  Set XFORMERS_MORE_DETAILS=1 for more details\n"
     ]
    },
    {
     "name": "stdout",
     "output_type": "stream",
     "text": [
      "105     koji oseća ili ispoljava veliko uzbuđenje ili ...\n",
      "184     osećanje naklonosti prema nekome ili nećemu do...\n",
      "688          okarakterisan prijateljstvom i dobrom voljom\n",
      "867                            koji čini ili donosi dobro\n",
      "915                 na visokom nivou po rangu ili značaju\n",
      "1051             koji ohrabruje, odobrava ili zadovoljava\n",
      "1154                                 Biti veoma primetan.\n",
      "1168            koji inavodi na divljenje ili odobravanje\n",
      "1190    Pozitivan ili negativan kvalitet nečega što ga...\n",
      "1281                  osećanje prijateljstva i uvažavanja\n",
      "1525              revnostan u posvećenosti i privrženosti\n",
      "2085                             koji donosi dobar profit\n",
      "2344    Koji koristi intelekt ili je privlačan intelektu.\n",
      "2559           koji ispoljava pogodan ili povoljan uticaj\n",
      "2680                                  biti privlačan kome\n",
      "2682              onaj koji ima visoku vrednost ili cenu;\n",
      "2752                        Biti zdrav, osećati se dobro.\n",
      "2835                         Umetnik nenadmašnih veština.\n",
      "3043                     osećati zadovoljstvo zbog nečega\n",
      "3102             Zaokupiti na prijatan ili zabavan način.\n",
      "3115                                   moralna ispravnost\n",
      "3235    Kvalitet koji čini daa je nešto poželjno, vred...\n",
      "3442                                 blagonaklona procena\n",
      "3842                            diviti se i čuditi nečemu\n",
      "3921    osećati se veselo i biti ispunjen dobrim raspo...\n",
      "4156         Stanje kada je neko prosperitetan i uspešan.\n",
      "4186              koji ima urođenu sklonost prema dobroti\n",
      "4266           radnja koju karakteriše dobro raspoloženje\n",
      "4386    Onaj koji uživa ili pokazuje radost, zadovoljs...\n",
      "Name: X, dtype: object\n"
     ]
    }
   ],
   "source": [
    "TestLLM.print_correctly_classified_instances(0, \"POS\" , \"BERTic\")"
   ]
  },
  {
   "cell_type": "code",
   "execution_count": 3,
   "id": "259d30ca-0b4a-4414-ad14-3e1b119bab2f",
   "metadata": {},
   "outputs": [
    {
     "data": {
      "application/vnd.jupyter.widget-view+json": {
       "model_id": "b5147102e77d495b959467675a1de8f5",
       "version_major": 2,
       "version_minor": 0
      },
      "text/plain": [
       "Downloading (…)lve/main/config.json:   0%|          | 0.00/876 [00:00<?, ?B/s]"
      ]
     },
     "metadata": {},
     "output_type": "display_data"
    },
    {
     "data": {
      "application/vnd.jupyter.widget-view+json": {
       "model_id": "31972323129d4b9abf9eb04fc2ab5562",
       "version_major": 2,
       "version_minor": 0
      },
      "text/plain": [
       "Downloading pytorch_model.bin:   0%|          | 0.00/574M [00:00<?, ?B/s]"
      ]
     },
     "metadata": {},
     "output_type": "display_data"
    },
    {
     "data": {
      "application/vnd.jupyter.widget-view+json": {
       "model_id": "7cab8682e066428587fdeb8ff1bfa2b8",
       "version_major": 2,
       "version_minor": 0
      },
      "text/plain": [
       "Downloading (…)okenizer_config.json:   0%|          | 0.00/379 [00:00<?, ?B/s]"
      ]
     },
     "metadata": {},
     "output_type": "display_data"
    },
    {
     "data": {
      "application/vnd.jupyter.widget-view+json": {
       "model_id": "6a23c51ded32457d814a599963313c78",
       "version_major": 2,
       "version_minor": 0
      },
      "text/plain": [
       "Downloading (…)olve/main/vocab.json:   0%|          | 0.00/862k [00:00<?, ?B/s]"
      ]
     },
     "metadata": {},
     "output_type": "display_data"
    },
    {
     "data": {
      "application/vnd.jupyter.widget-view+json": {
       "model_id": "e74ebcbcd6f34d128b819c1ceaed8008",
       "version_major": 2,
       "version_minor": 0
      },
      "text/plain": [
       "Downloading (…)olve/main/merges.txt:   0%|          | 0.00/520k [00:00<?, ?B/s]"
      ]
     },
     "metadata": {},
     "output_type": "display_data"
    },
    {
     "data": {
      "application/vnd.jupyter.widget-view+json": {
       "model_id": "9afb69483aa64fdb91e42a0b6b5c3f4f",
       "version_major": 2,
       "version_minor": 0
      },
      "text/plain": [
       "Downloading (…)/main/tokenizer.json:   0%|          | 0.00/2.24M [00:00<?, ?B/s]"
      ]
     },
     "metadata": {},
     "output_type": "display_data"
    },
    {
     "data": {
      "application/vnd.jupyter.widget-view+json": {
       "model_id": "31de1a1c5ba047478a08a5bcca558fc5",
       "version_major": 2,
       "version_minor": 0
      },
      "text/plain": [
       "Downloading (…)cial_tokens_map.json:   0%|          | 0.00/280 [00:00<?, ?B/s]"
      ]
     },
     "metadata": {},
     "output_type": "display_data"
    },
    {
     "name": "stdout",
     "output_type": "stream",
     "text": [
      "184     osećanje naklonosti prema nekome ili nećemu do...\n",
      "1168            koji inavodi na divljenje ili odobravanje\n",
      "1190    Pozitivan ili negativan kvalitet nečega što ga...\n",
      "1281                  osećanje prijateljstva i uvažavanja\n",
      "1525              revnostan u posvećenosti i privrženosti\n",
      "3043                     osećati zadovoljstvo zbog nečega\n",
      "3115                                   moralna ispravnost\n",
      "3235    Kvalitet koji čini daa je nešto poželjno, vred...\n",
      "3921    osećati se veselo i biti ispunjen dobrim raspo...\n",
      "Name: X, dtype: object\n"
     ]
    }
   ],
   "source": [
    "TestLLM.print_correctly_classified_instances(0, \"POS\" , \"BERTicovo\")"
   ]
  },
  {
   "cell_type": "code",
   "execution_count": 4,
   "id": "52040da3-5afa-42f6-8dc5-60dc5519b0d7",
   "metadata": {},
   "outputs": [
    {
     "name": "stdout",
     "output_type": "stream",
     "text": [
      "5                          Stav divljenja ili poštovanja.\n",
      "63                         osoba koja voli ili je voljena\n",
      "74                          Biti prihvatljiv ili pristao.\n",
      "923            koji oseća ili pokazuje dobro raspoloženje\n",
      "1019                           Korisna ili vredna osobina\n",
      "1128    Ličnost koja može da proceni vrednost ili kval...\n",
      "1218                               Stanje izuzetne sreće.\n",
      "1232                Stanje zadovoljstva jer nema bolesti.\n",
      "1323                 ono što je dobro, vredno ili korisno\n",
      "1584                   postojan u naklonosti ili odanosti\n",
      "1590    Onaj koji uživa ili pokazuje radost, zadovoljs...\n",
      "1682                činjenje dobra; osećaj dobrotvornosti\n",
      "1774                   osećaj spontano dobrog rapoloženja\n",
      "2301    kvalitet koji ima nešto što ima veliku vrednos...\n",
      "2305    imati poželjne ili pozitivne kvalitete, posebn...\n",
      "2884       koji je sklon ljubavi ili ispoljavanju ljubavi\n",
      "2947                                       veseo i ozaren\n",
      "3082    Stanje pozitivnih osećanja, od zadovoljstva do...\n",
      "3123    koji je oslobođen stresa ili pogoduje mentalno...\n",
      "3244                  Gajiti nežna osećanja prema nekome.\n",
      "3583    Koji koristi intelekt ili je privlačan intelektu.\n",
      "3957    Osećanje naklonjenosti drugim osobama; uživanj...\n",
      "4083    Kvalitet koji čini daa je nešto poželjno, vred...\n",
      "4256                                      veselo osećanje\n",
      "Name: X, dtype: object\n"
     ]
    }
   ],
   "source": [
    "TestLLM.print_correctly_classified_instances(2, \"POS\" , \"BERTic\")"
   ]
  },
  {
   "cell_type": "code",
   "execution_count": 5,
   "id": "decd6cd7-2b20-4606-8bc4-9cef1fd8c35b",
   "metadata": {},
   "outputs": [
    {
     "data": {
      "application/vnd.jupyter.widget-view+json": {
       "model_id": "6d9fc497926f4102a3c55ef92e8326a3",
       "version_major": 2,
       "version_minor": 0
      },
      "text/plain": [
       "Downloading (…)lve/main/config.json:   0%|          | 0.00/876 [00:00<?, ?B/s]"
      ]
     },
     "metadata": {},
     "output_type": "display_data"
    },
    {
     "data": {
      "application/vnd.jupyter.widget-view+json": {
       "model_id": "273537cc00e347c691f4fffec3f91000",
       "version_major": 2,
       "version_minor": 0
      },
      "text/plain": [
       "Downloading pytorch_model.bin:   0%|          | 0.00/574M [00:00<?, ?B/s]"
      ]
     },
     "metadata": {},
     "output_type": "display_data"
    },
    {
     "data": {
      "application/vnd.jupyter.widget-view+json": {
       "model_id": "2937384506554c1997b6eca000df8cc1",
       "version_major": 2,
       "version_minor": 0
      },
      "text/plain": [
       "Downloading (…)okenizer_config.json:   0%|          | 0.00/379 [00:00<?, ?B/s]"
      ]
     },
     "metadata": {},
     "output_type": "display_data"
    },
    {
     "data": {
      "application/vnd.jupyter.widget-view+json": {
       "model_id": "c34e89013cf64820bbb10f597d39c8bd",
       "version_major": 2,
       "version_minor": 0
      },
      "text/plain": [
       "Downloading (…)olve/main/vocab.json:   0%|          | 0.00/862k [00:00<?, ?B/s]"
      ]
     },
     "metadata": {},
     "output_type": "display_data"
    },
    {
     "data": {
      "application/vnd.jupyter.widget-view+json": {
       "model_id": "b702212f66794d6691e385a05f0d949f",
       "version_major": 2,
       "version_minor": 0
      },
      "text/plain": [
       "Downloading (…)olve/main/merges.txt:   0%|          | 0.00/520k [00:00<?, ?B/s]"
      ]
     },
     "metadata": {},
     "output_type": "display_data"
    },
    {
     "data": {
      "application/vnd.jupyter.widget-view+json": {
       "model_id": "f38aa307309341a69a78161c168a4322",
       "version_major": 2,
       "version_minor": 0
      },
      "text/plain": [
       "Downloading (…)/main/tokenizer.json:   0%|          | 0.00/2.24M [00:00<?, ?B/s]"
      ]
     },
     "metadata": {},
     "output_type": "display_data"
    },
    {
     "data": {
      "application/vnd.jupyter.widget-view+json": {
       "model_id": "b4a38df21a8042eba99b14acd43d2088",
       "version_major": 2,
       "version_minor": 0
      },
      "text/plain": [
       "Downloading (…)cial_tokens_map.json:   0%|          | 0.00/280 [00:00<?, ?B/s]"
      ]
     },
     "metadata": {},
     "output_type": "display_data"
    },
    {
     "name": "stdout",
     "output_type": "stream",
     "text": [
      "5                          Stav divljenja ili poštovanja.\n",
      "63                         osoba koja voli ili je voljena\n",
      "74                          Biti prihvatljiv ili pristao.\n",
      "923            koji oseća ili pokazuje dobro raspoloženje\n",
      "1019                           Korisna ili vredna osobina\n",
      "1218                               Stanje izuzetne sreće.\n",
      "1232                Stanje zadovoljstva jer nema bolesti.\n",
      "1323                 ono što je dobro, vredno ili korisno\n",
      "1584                   postojan u naklonosti ili odanosti\n",
      "1590    Onaj koji uživa ili pokazuje radost, zadovoljs...\n",
      "1682                činjenje dobra; osećaj dobrotvornosti\n",
      "1714                                      Upadljiv uspeh.\n",
      "1774                   osećaj spontano dobrog rapoloženja\n",
      "2301    kvalitet koji ima nešto što ima veliku vrednos...\n",
      "2305    imati poželjne ili pozitivne kvalitete, posebn...\n",
      "2571    kvalitet da čovek ne stavlja sebe prvo, već da...\n",
      "2756                   kvalitet onoga što ima veliku cenu\n",
      "2871    osobina onoga na šta se može osloniti, što je ...\n",
      "2884       koji je sklon ljubavi ili ispoljavanju ljubavi\n",
      "2947                                       veseo i ozaren\n",
      "3082    Stanje pozitivnih osećanja, od zadovoljstva do...\n",
      "3123    koji je oslobođen stresa ili pogoduje mentalno...\n",
      "3951                               Osećanje velike sreće.\n",
      "3957    Osećanje naklonjenosti drugim osobama; uživanj...\n",
      "4019           radnja koju karakteriše dobro raspoloženje\n",
      "4083    Kvalitet koji čini daa je nešto poželjno, vred...\n",
      "4256                                      veselo osećanje\n",
      "Name: X, dtype: object\n"
     ]
    }
   ],
   "source": [
    "TestLLM.print_correctly_classified_instances(2, \"POS\" , \"BERTicovo\")"
   ]
  },
  {
   "cell_type": "code",
   "execution_count": 6,
   "id": "3adb77a9-a1ce-4be4-9eb9-9c4655e46e43",
   "metadata": {},
   "outputs": [
    {
     "name": "stdout",
     "output_type": "stream",
     "text": [
      "208            radnja koju karakteriše dobro raspoloženje\n",
      "258                koji zaslužuje uvažavanje i poštovanje\n",
      "638                            Izuzetna moralna vrednost.\n",
      "1080                                       veseo i ozaren\n",
      "1304    osobina ljudi da veruju u poštenje i pouzdanos...\n",
      "1644        osobina prefinjene uglađenosti i dobrog ukusa\n",
      "1768                onaj koji poseduje moralne kvalitete;\n",
      "1901                  osećanje duboke ljubavi i divljenja\n",
      "2094    Onaj koji uživa ili pokazuje radost, zadovoljs...\n",
      "2154           Nalaziti da je nešto zabavno ili prijatno.\n",
      "2164                                        osećati sreću\n",
      "2322    osećati se veselo i biti ispunjen dobrim raspo...\n",
      "2355    Kvalitet koji čini daa je nešto poželjno, vred...\n",
      "2405                   kvalitet onoga što ima veliku cenu\n",
      "2555                                 koji nešto potvrđuje\n",
      "2710                         koji čini živahnim i veselim\n",
      "3164    Prijatan za oči ili dušu, posebno jer je lep i...\n",
      "3220                pružiti moralnu ili emocionalnu snagu\n",
      "3351    Osobina onog ko je široko prihvaćen i čije se ...\n",
      "3474    Ličnost koja može da proceni vrednost ili kval...\n",
      "3484                       osoba koja voli ili je voljena\n",
      "3712              koji ima urođenu sklonost prema dobroti\n",
      "3755    koji pokazuje ili je motivisan saosećanjem, ra...\n",
      "3852           sposoban za korektno i validno rezonovanje\n",
      "3883      Imati želju, čežnju ili veliki apetit za nešto.\n",
      "4041                             opšte prihvaćen i uvažen\n",
      "4322              revnostan u posvećenosti i privrženosti\n",
      "4332                                  koji se želi, traži\n",
      "Name: X, dtype: object\n"
     ]
    }
   ],
   "source": [
    "TestLLM.print_correctly_classified_instances(4, \"POS\" , \"BERTic\")"
   ]
  },
  {
   "cell_type": "code",
   "execution_count": 7,
   "id": "7d4fe2cb-d031-4890-9300-c5b3f323d79f",
   "metadata": {},
   "outputs": [
    {
     "data": {
      "application/vnd.jupyter.widget-view+json": {
       "model_id": "95ce1e2c4ce44b2bbc7c7a2228cd41aa",
       "version_major": 2,
       "version_minor": 0
      },
      "text/plain": [
       "Downloading (…)lve/main/config.json:   0%|          | 0.00/882 [00:00<?, ?B/s]"
      ]
     },
     "metadata": {},
     "output_type": "display_data"
    },
    {
     "data": {
      "application/vnd.jupyter.widget-view+json": {
       "model_id": "be2900c180ad4570b2475e373c161f15",
       "version_major": 2,
       "version_minor": 0
      },
      "text/plain": [
       "Downloading pytorch_model.bin:   0%|          | 0.00/574M [00:00<?, ?B/s]"
      ]
     },
     "metadata": {},
     "output_type": "display_data"
    },
    {
     "data": {
      "application/vnd.jupyter.widget-view+json": {
       "model_id": "ec8197e7ce5b4c78966f25b30eb01f79",
       "version_major": 2,
       "version_minor": 0
      },
      "text/plain": [
       "Downloading (…)okenizer_config.json:   0%|          | 0.00/379 [00:00<?, ?B/s]"
      ]
     },
     "metadata": {},
     "output_type": "display_data"
    },
    {
     "data": {
      "application/vnd.jupyter.widget-view+json": {
       "model_id": "d66da29331a34ce6bb1432945ad69f0c",
       "version_major": 2,
       "version_minor": 0
      },
      "text/plain": [
       "Downloading (…)olve/main/vocab.json:   0%|          | 0.00/862k [00:00<?, ?B/s]"
      ]
     },
     "metadata": {},
     "output_type": "display_data"
    },
    {
     "data": {
      "application/vnd.jupyter.widget-view+json": {
       "model_id": "3a2c28ecb42a4e08877c718875300ab3",
       "version_major": 2,
       "version_minor": 0
      },
      "text/plain": [
       "Downloading (…)olve/main/merges.txt:   0%|          | 0.00/520k [00:00<?, ?B/s]"
      ]
     },
     "metadata": {},
     "output_type": "display_data"
    },
    {
     "data": {
      "application/vnd.jupyter.widget-view+json": {
       "model_id": "432b3259f1134692a40cbb4f28a9fee6",
       "version_major": 2,
       "version_minor": 0
      },
      "text/plain": [
       "Downloading (…)/main/tokenizer.json:   0%|          | 0.00/2.24M [00:00<?, ?B/s]"
      ]
     },
     "metadata": {},
     "output_type": "display_data"
    },
    {
     "data": {
      "application/vnd.jupyter.widget-view+json": {
       "model_id": "b3d366f240fb4aeeac8773bc021b1426",
       "version_major": 2,
       "version_minor": 0
      },
      "text/plain": [
       "Downloading (…)cial_tokens_map.json:   0%|          | 0.00/280 [00:00<?, ?B/s]"
      ]
     },
     "metadata": {},
     "output_type": "display_data"
    },
    {
     "name": "stdout",
     "output_type": "stream",
     "text": [
      "51      Koji ima potrebne sposobnosti, veštinu ili zna...\n",
      "208            radnja koju karakteriše dobro raspoloženje\n",
      "258                koji zaslužuje uvažavanje i poštovanje\n",
      "277     Proceniti da je nešto dobro; misliti pozitivno...\n",
      "568     Koji proizvodi ili je sposoban da proizvede na...\n",
      "638                            Izuzetna moralna vrednost.\n",
      "817     sposobnost postojanja ili delovanja u harmonič...\n",
      "1076                              Visoka vrednost nečega.\n",
      "1080                                       veseo i ozaren\n",
      "1644        osobina prefinjene uglađenosti i dobrog ukusa\n",
      "1759    Osećanja proživljena kada je neko u zadovoljno...\n",
      "1768                onaj koji poseduje moralne kvalitete;\n",
      "1901                  osećanje duboke ljubavi i divljenja\n",
      "2094    Onaj koji uživa ili pokazuje radost, zadovoljs...\n",
      "2164                                        osećati sreću\n",
      "2322    osećati se veselo i biti ispunjen dobrim raspo...\n",
      "2355    Kvalitet koji čini daa je nešto poželjno, vred...\n",
      "2405                   kvalitet onoga što ima veliku cenu\n",
      "2536    Koga se tič principi dobra i zla; koji se ukla...\n",
      "2555                                 koji nešto potvrđuje\n",
      "2710                         koji čini živahnim i veselim\n",
      "2764         Stanje kada je neko prosperitetan i uspešan.\n",
      "3164    Prijatan za oči ili dušu, posebno jer je lep i...\n",
      "3244                     osećati zadovoljstvo zbog nečega\n",
      "3260    izuzetno dobar; ove reči se koriste za naglaša...\n",
      "3268                        Biti prihvatljiv ili pristao.\n",
      "3390            Biti nekome prihvatljiv ili odgovarajući.\n",
      "3474    Ličnost koja može da proceni vrednost ili kval...\n",
      "3484                       osoba koja voli ili je voljena\n",
      "3612    Ublažavanje patnje; pokazivanje velike dobrote...\n",
      "3712              koji ima urođenu sklonost prema dobroti\n",
      "3755    koji pokazuje ili je motivisan saosećanjem, ra...\n",
      "3778                                      Učiniti boljim.\n",
      "3852           sposoban za korektno i validno rezonovanje\n",
      "3883      Imati želju, čežnju ili veliki apetit za nešto.\n",
      "4041                             opšte prihvaćen i uvažen\n",
      "4193                   Biti prihvatljiv ili odgovarajući.\n",
      "4322              revnostan u posvećenosti i privrženosti\n",
      "4332                                  koji se želi, traži\n",
      "Name: X, dtype: object\n"
     ]
    }
   ],
   "source": [
    "TestLLM.print_correctly_classified_instances(4, \"POS\" , \"BERTicovo\")"
   ]
  },
  {
   "cell_type": "code",
   "execution_count": 8,
   "id": "3bd91502-3d59-40d2-bbf4-24aaaef4edd0",
   "metadata": {},
   "outputs": [
    {
     "name": "stdout",
     "output_type": "stream",
     "text": [
      "Texts correctly classified as class 1 by both models:\n",
      " 0    osećanje naklonosti prema nekome ili nećemu do...\n",
      "1            koji inavodi na divljenje ili odobravanje\n",
      "2    Pozitivan ili negativan kvalitet nečega što ga...\n",
      "3                  osećanje prijateljstva i uvažavanja\n",
      "4              revnostan u posvećenosti i privrženosti\n",
      "5                     osećati zadovoljstvo zbog nečega\n",
      "6                                   moralna ispravnost\n",
      "7    Kvalitet koji čini daa je nešto poželjno, vred...\n",
      "8    osećati se veselo i biti ispunjen dobrim raspo...\n",
      "Name: X, dtype: object\n",
      "Texts correctly classified as class 1 by the first model but not the second:\n",
      " 105     koji oseća ili ispoljava veliko uzbuđenje ili ...\n",
      "688          okarakterisan prijateljstvom i dobrom voljom\n",
      "867                            koji čini ili donosi dobro\n",
      "915                 na visokom nivou po rangu ili značaju\n",
      "1051             koji ohrabruje, odobrava ili zadovoljava\n",
      "1154                                 Biti veoma primetan.\n",
      "2085                             koji donosi dobar profit\n",
      "2344    Koji koristi intelekt ili je privlačan intelektu.\n",
      "2559           koji ispoljava pogodan ili povoljan uticaj\n",
      "2680                                  biti privlačan kome\n",
      "2682              onaj koji ima visoku vrednost ili cenu;\n",
      "2752                        Biti zdrav, osećati se dobro.\n",
      "2835                         Umetnik nenadmašnih veština.\n",
      "3102             Zaokupiti na prijatan ili zabavan način.\n",
      "3442                                 blagonaklona procena\n",
      "3842                            diviti se i čuditi nečemu\n",
      "4156         Stanje kada je neko prosperitetan i uspešan.\n",
      "4186              koji ima urođenu sklonost prema dobroti\n",
      "4266           radnja koju karakteriše dobro raspoloženje\n",
      "4386    Onaj koji uživa ili pokazuje radost, zadovoljs...\n",
      "Name: X, dtype: object\n",
      "Texts correctly classified as class 1 by the second model but not the first:\n",
      " Series([], Name: X, dtype: object)\n"
     ]
    }
   ],
   "source": [
    "TestLLM.compare_models(0, \"POS\", \"BERTic\", \"BERTicovo\")"
   ]
  },
  {
   "cell_type": "code",
   "execution_count": 9,
   "id": "ee7ed086-db22-444f-b32c-35ddfb53b6c4",
   "metadata": {},
   "outputs": [
    {
     "data": {
      "application/vnd.jupyter.widget-view+json": {
       "model_id": "27fd70e4de8b446da770352171ca6326",
       "version_major": 2,
       "version_minor": 0
      },
      "text/plain": [
       "Downloading (…)lve/main/config.json:   0%|          | 0.00/876 [00:00<?, ?B/s]"
      ]
     },
     "metadata": {},
     "output_type": "display_data"
    },
    {
     "data": {
      "application/vnd.jupyter.widget-view+json": {
       "model_id": "d8cba2a7ebb045669bd6148abd3d108b",
       "version_major": 2,
       "version_minor": 0
      },
      "text/plain": [
       "Downloading pytorch_model.bin:   0%|          | 0.00/574M [00:00<?, ?B/s]"
      ]
     },
     "metadata": {},
     "output_type": "display_data"
    },
    {
     "data": {
      "application/vnd.jupyter.widget-view+json": {
       "model_id": "86cca5f565f3403fac9e75df886096bd",
       "version_major": 2,
       "version_minor": 0
      },
      "text/plain": [
       "Downloading (…)okenizer_config.json:   0%|          | 0.00/379 [00:00<?, ?B/s]"
      ]
     },
     "metadata": {},
     "output_type": "display_data"
    },
    {
     "data": {
      "application/vnd.jupyter.widget-view+json": {
       "model_id": "341b993266eb444b8f9b0104a9ef967b",
       "version_major": 2,
       "version_minor": 0
      },
      "text/plain": [
       "Downloading (…)olve/main/vocab.json:   0%|          | 0.00/862k [00:00<?, ?B/s]"
      ]
     },
     "metadata": {},
     "output_type": "display_data"
    },
    {
     "data": {
      "application/vnd.jupyter.widget-view+json": {
       "model_id": "5c1761eddbde44a5917ab217220945f0",
       "version_major": 2,
       "version_minor": 0
      },
      "text/plain": [
       "Downloading (…)olve/main/merges.txt:   0%|          | 0.00/520k [00:00<?, ?B/s]"
      ]
     },
     "metadata": {},
     "output_type": "display_data"
    },
    {
     "data": {
      "application/vnd.jupyter.widget-view+json": {
       "model_id": "837d04701cd341b78fa1660c07f290d0",
       "version_major": 2,
       "version_minor": 0
      },
      "text/plain": [
       "Downloading (…)/main/tokenizer.json:   0%|          | 0.00/2.24M [00:00<?, ?B/s]"
      ]
     },
     "metadata": {},
     "output_type": "display_data"
    },
    {
     "data": {
      "application/vnd.jupyter.widget-view+json": {
       "model_id": "7bb61a72a1e74ca9a559faf1724e2c97",
       "version_major": 2,
       "version_minor": 0
      },
      "text/plain": [
       "Downloading (…)cial_tokens_map.json:   0%|          | 0.00/280 [00:00<?, ?B/s]"
      ]
     },
     "metadata": {},
     "output_type": "display_data"
    },
    {
     "ename": "RuntimeError",
     "evalue": "Expected tensor for argument #1 'indices' to have one of the following scalar types: Long, Int; but got torch.FloatTensor instead (while checking arguments for embedding)",
     "output_type": "error",
     "traceback": [
      "\u001b[1;31m---------------------------------------------------------------------------\u001b[0m",
      "\u001b[1;31mRuntimeError\u001b[0m                              Traceback (most recent call last)",
      "\u001b[1;32mc:\\Users\\sasa5\\OneDrive\\Documents\\GitHub\\SerbianSentiWordNET\\Comaring Correct outpus.ipynb Cell 9\u001b[0m line \u001b[0;36m1\n\u001b[1;32m----> <a href='vscode-notebook-cell:/c%3A/Users/sasa5/OneDrive/Documents/GitHub/SerbianSentiWordNET/Comaring%20Correct%20outpus.ipynb#X11sZmlsZQ%3D%3D?line=0'>1</a>\u001b[0m TestLLM\u001b[39m.\u001b[39;49mcompare_models(\u001b[39m0\u001b[39;49m, \u001b[39m\"\u001b[39;49m\u001b[39mNEG\u001b[39;49m\u001b[39m\"\u001b[39;49m, \u001b[39m\"\u001b[39;49m\u001b[39mBERTic\u001b[39;49m\u001b[39m\"\u001b[39;49m, \u001b[39m\"\u001b[39;49m\u001b[39mBERTicovo\u001b[39;49m\u001b[39m\"\u001b[39;49m)\n",
      "File \u001b[1;32mc:\\Users\\sasa5\\OneDrive\\Documents\\GitHub\\SerbianSentiWordNET\\TestLLM.py:107\u001b[0m, in \u001b[0;36mcompare_models\u001b[1;34m(i, polarity, model1, model2, compare_misclassified, compare_other_class)\u001b[0m\n\u001b[0;32m    105\u001b[0m \u001b[39m# Create dataframes for each model to store the results\u001b[39;00m\n\u001b[0;32m    106\u001b[0m results_model1 \u001b[39m=\u001b[39m run_model(X_test, y_test, model_name1, label2id)\n\u001b[1;32m--> 107\u001b[0m results_model2 \u001b[39m=\u001b[39m run_model(X_test, y_test, model_name2, label2id)\n\u001b[0;32m    109\u001b[0m \u001b[39m# Flags Logic for results_model1\u001b[39;00m\n\u001b[0;32m    110\u001b[0m comparison_logic_1, label \u001b[39m=\u001b[39m create_comparison_logic(results_model1, compare_misclassified, compare_other_class)\n",
      "File \u001b[1;32mc:\\Users\\sasa5\\OneDrive\\Documents\\GitHub\\SerbianSentiWordNET\\TestLLM.py:152\u001b[0m, in \u001b[0;36mrun_model\u001b[1;34m(X_test, y_test, model_name, label2id)\u001b[0m\n\u001b[0;32m    149\u001b[0m pipe \u001b[39m=\u001b[39m pipeline(\u001b[39m\"\u001b[39m\u001b[39mtext-classification\u001b[39m\u001b[39m\"\u001b[39m, model\u001b[39m=\u001b[39mmodel_name)\n\u001b[0;32m    151\u001b[0m \u001b[39m# Process test data through pipeline\u001b[39;00m\n\u001b[1;32m--> 152\u001b[0m data \u001b[39m=\u001b[39m pipe(X_test\u001b[39m.\u001b[39;49mto_list())\n\u001b[0;32m    154\u001b[0m \u001b[39m# Convert the list of dictionaries into a pandas DataFrame\u001b[39;00m\n\u001b[0;32m    155\u001b[0m df \u001b[39m=\u001b[39m pd\u001b[39m.\u001b[39mDataFrame(data)\n",
      "File \u001b[1;32mc:\\Users\\sasa5\\anaconda3\\envs\\HugFace\\Lib\\site-packages\\transformers\\pipelines\\text_classification.py:155\u001b[0m, in \u001b[0;36mTextClassificationPipeline.__call__\u001b[1;34m(self, *args, **kwargs)\u001b[0m\n\u001b[0;32m    121\u001b[0m \u001b[39mdef\u001b[39;00m \u001b[39m__call__\u001b[39m(\u001b[39mself\u001b[39m, \u001b[39m*\u001b[39margs, \u001b[39m*\u001b[39m\u001b[39m*\u001b[39mkwargs):\n\u001b[0;32m    122\u001b[0m \u001b[39m    \u001b[39m\u001b[39m\"\"\"\u001b[39;00m\n\u001b[0;32m    123\u001b[0m \u001b[39m    Classify the text(s) given as inputs.\u001b[39;00m\n\u001b[0;32m    124\u001b[0m \n\u001b[1;32m   (...)\u001b[0m\n\u001b[0;32m    153\u001b[0m \u001b[39m        If `top_k` is used, one such dictionary is returned per label.\u001b[39;00m\n\u001b[0;32m    154\u001b[0m \u001b[39m    \"\"\"\u001b[39;00m\n\u001b[1;32m--> 155\u001b[0m     result \u001b[39m=\u001b[39m \u001b[39msuper\u001b[39;49m()\u001b[39m.\u001b[39;49m\u001b[39m__call__\u001b[39;49m(\u001b[39m*\u001b[39;49margs, \u001b[39m*\u001b[39;49m\u001b[39m*\u001b[39;49mkwargs)\n\u001b[0;32m    156\u001b[0m     \u001b[39m# TODO try and retrieve it in a nicer way from _sanitize_parameters.\u001b[39;00m\n\u001b[0;32m    157\u001b[0m     _legacy \u001b[39m=\u001b[39m \u001b[39m\"\u001b[39m\u001b[39mtop_k\u001b[39m\u001b[39m\"\u001b[39m \u001b[39mnot\u001b[39;00m \u001b[39min\u001b[39;00m kwargs\n",
      "File \u001b[1;32mc:\\Users\\sasa5\\anaconda3\\envs\\HugFace\\Lib\\site-packages\\transformers\\pipelines\\base.py:1103\u001b[0m, in \u001b[0;36mPipeline.__call__\u001b[1;34m(self, inputs, num_workers, batch_size, *args, **kwargs)\u001b[0m\n\u001b[0;32m   1099\u001b[0m \u001b[39mif\u001b[39;00m can_use_iterator:\n\u001b[0;32m   1100\u001b[0m     final_iterator \u001b[39m=\u001b[39m \u001b[39mself\u001b[39m\u001b[39m.\u001b[39mget_iterator(\n\u001b[0;32m   1101\u001b[0m         inputs, num_workers, batch_size, preprocess_params, forward_params, postprocess_params\n\u001b[0;32m   1102\u001b[0m     )\n\u001b[1;32m-> 1103\u001b[0m     outputs \u001b[39m=\u001b[39m \u001b[39mlist\u001b[39m(final_iterator)\n\u001b[0;32m   1104\u001b[0m     \u001b[39mreturn\u001b[39;00m outputs\n\u001b[0;32m   1105\u001b[0m \u001b[39melse\u001b[39;00m:\n",
      "File \u001b[1;32mc:\\Users\\sasa5\\anaconda3\\envs\\HugFace\\Lib\\site-packages\\transformers\\pipelines\\pt_utils.py:124\u001b[0m, in \u001b[0;36mPipelineIterator.__next__\u001b[1;34m(self)\u001b[0m\n\u001b[0;32m    121\u001b[0m     \u001b[39mreturn\u001b[39;00m \u001b[39mself\u001b[39m\u001b[39m.\u001b[39mloader_batch_item()\n\u001b[0;32m    123\u001b[0m \u001b[39m# We're out of items within a batch\u001b[39;00m\n\u001b[1;32m--> 124\u001b[0m item \u001b[39m=\u001b[39m \u001b[39mnext\u001b[39m(\u001b[39mself\u001b[39m\u001b[39m.\u001b[39miterator)\n\u001b[0;32m    125\u001b[0m processed \u001b[39m=\u001b[39m \u001b[39mself\u001b[39m\u001b[39m.\u001b[39minfer(item, \u001b[39m*\u001b[39m\u001b[39m*\u001b[39m\u001b[39mself\u001b[39m\u001b[39m.\u001b[39mparams)\n\u001b[0;32m    126\u001b[0m \u001b[39m# We now have a batch of \"inferred things\".\u001b[39;00m\n",
      "File \u001b[1;32mc:\\Users\\sasa5\\anaconda3\\envs\\HugFace\\Lib\\site-packages\\transformers\\pipelines\\pt_utils.py:125\u001b[0m, in \u001b[0;36mPipelineIterator.__next__\u001b[1;34m(self)\u001b[0m\n\u001b[0;32m    123\u001b[0m \u001b[39m# We're out of items within a batch\u001b[39;00m\n\u001b[0;32m    124\u001b[0m item \u001b[39m=\u001b[39m \u001b[39mnext\u001b[39m(\u001b[39mself\u001b[39m\u001b[39m.\u001b[39miterator)\n\u001b[1;32m--> 125\u001b[0m processed \u001b[39m=\u001b[39m \u001b[39mself\u001b[39;49m\u001b[39m.\u001b[39;49minfer(item, \u001b[39m*\u001b[39;49m\u001b[39m*\u001b[39;49m\u001b[39mself\u001b[39;49m\u001b[39m.\u001b[39;49mparams)\n\u001b[0;32m    126\u001b[0m \u001b[39m# We now have a batch of \"inferred things\".\u001b[39;00m\n\u001b[0;32m    127\u001b[0m \u001b[39mif\u001b[39;00m \u001b[39mself\u001b[39m\u001b[39m.\u001b[39mloader_batch_size \u001b[39mis\u001b[39;00m \u001b[39mnot\u001b[39;00m \u001b[39mNone\u001b[39;00m:\n\u001b[0;32m    128\u001b[0m     \u001b[39m# Try to infer the size of the batch\u001b[39;00m\n",
      "File \u001b[1;32mc:\\Users\\sasa5\\anaconda3\\envs\\HugFace\\Lib\\site-packages\\transformers\\pipelines\\base.py:1028\u001b[0m, in \u001b[0;36mPipeline.forward\u001b[1;34m(self, model_inputs, **forward_params)\u001b[0m\n\u001b[0;32m   1026\u001b[0m     \u001b[39mwith\u001b[39;00m inference_context():\n\u001b[0;32m   1027\u001b[0m         model_inputs \u001b[39m=\u001b[39m \u001b[39mself\u001b[39m\u001b[39m.\u001b[39m_ensure_tensor_on_device(model_inputs, device\u001b[39m=\u001b[39m\u001b[39mself\u001b[39m\u001b[39m.\u001b[39mdevice)\n\u001b[1;32m-> 1028\u001b[0m         model_outputs \u001b[39m=\u001b[39m \u001b[39mself\u001b[39;49m\u001b[39m.\u001b[39;49m_forward(model_inputs, \u001b[39m*\u001b[39;49m\u001b[39m*\u001b[39;49mforward_params)\n\u001b[0;32m   1029\u001b[0m         model_outputs \u001b[39m=\u001b[39m \u001b[39mself\u001b[39m\u001b[39m.\u001b[39m_ensure_tensor_on_device(model_outputs, device\u001b[39m=\u001b[39mtorch\u001b[39m.\u001b[39mdevice(\u001b[39m\"\u001b[39m\u001b[39mcpu\u001b[39m\u001b[39m\"\u001b[39m))\n\u001b[0;32m   1030\u001b[0m \u001b[39melse\u001b[39;00m:\n",
      "File \u001b[1;32mc:\\Users\\sasa5\\anaconda3\\envs\\HugFace\\Lib\\site-packages\\transformers\\pipelines\\text_classification.py:182\u001b[0m, in \u001b[0;36mTextClassificationPipeline._forward\u001b[1;34m(self, model_inputs)\u001b[0m\n\u001b[0;32m    181\u001b[0m \u001b[39mdef\u001b[39;00m \u001b[39m_forward\u001b[39m(\u001b[39mself\u001b[39m, model_inputs):\n\u001b[1;32m--> 182\u001b[0m     \u001b[39mreturn\u001b[39;00m \u001b[39mself\u001b[39;49m\u001b[39m.\u001b[39;49mmodel(\u001b[39m*\u001b[39;49m\u001b[39m*\u001b[39;49mmodel_inputs)\n",
      "File \u001b[1;32mc:\\Users\\sasa5\\anaconda3\\envs\\HugFace\\Lib\\site-packages\\torch\\nn\\modules\\module.py:1519\u001b[0m, in \u001b[0;36mModule._wrapped_call_impl\u001b[1;34m(self, *args, **kwargs)\u001b[0m\n\u001b[0;32m   1517\u001b[0m     \u001b[39mreturn\u001b[39;00m \u001b[39mself\u001b[39m\u001b[39m.\u001b[39m_compiled_call_impl(\u001b[39m*\u001b[39margs, \u001b[39m*\u001b[39m\u001b[39m*\u001b[39mkwargs)  \u001b[39m# type: ignore[misc]\u001b[39;00m\n\u001b[0;32m   1518\u001b[0m \u001b[39melse\u001b[39;00m:\n\u001b[1;32m-> 1519\u001b[0m     \u001b[39mreturn\u001b[39;00m \u001b[39mself\u001b[39;49m\u001b[39m.\u001b[39;49m_call_impl(\u001b[39m*\u001b[39;49margs, \u001b[39m*\u001b[39;49m\u001b[39m*\u001b[39;49mkwargs)\n",
      "File \u001b[1;32mc:\\Users\\sasa5\\anaconda3\\envs\\HugFace\\Lib\\site-packages\\torch\\nn\\modules\\module.py:1528\u001b[0m, in \u001b[0;36mModule._call_impl\u001b[1;34m(self, *args, **kwargs)\u001b[0m\n\u001b[0;32m   1523\u001b[0m \u001b[39m# If we don't have any hooks, we want to skip the rest of the logic in\u001b[39;00m\n\u001b[0;32m   1524\u001b[0m \u001b[39m# this function, and just call forward.\u001b[39;00m\n\u001b[0;32m   1525\u001b[0m \u001b[39mif\u001b[39;00m \u001b[39mnot\u001b[39;00m (\u001b[39mself\u001b[39m\u001b[39m.\u001b[39m_backward_hooks \u001b[39mor\u001b[39;00m \u001b[39mself\u001b[39m\u001b[39m.\u001b[39m_backward_pre_hooks \u001b[39mor\u001b[39;00m \u001b[39mself\u001b[39m\u001b[39m.\u001b[39m_forward_hooks \u001b[39mor\u001b[39;00m \u001b[39mself\u001b[39m\u001b[39m.\u001b[39m_forward_pre_hooks\n\u001b[0;32m   1526\u001b[0m         \u001b[39mor\u001b[39;00m _global_backward_pre_hooks \u001b[39mor\u001b[39;00m _global_backward_hooks\n\u001b[0;32m   1527\u001b[0m         \u001b[39mor\u001b[39;00m _global_forward_hooks \u001b[39mor\u001b[39;00m _global_forward_pre_hooks):\n\u001b[1;32m-> 1528\u001b[0m     \u001b[39mreturn\u001b[39;00m forward_call(\u001b[39m*\u001b[39;49margs, \u001b[39m*\u001b[39;49m\u001b[39m*\u001b[39;49mkwargs)\n\u001b[0;32m   1530\u001b[0m \u001b[39mtry\u001b[39;00m:\n\u001b[0;32m   1531\u001b[0m     result \u001b[39m=\u001b[39m \u001b[39mNone\u001b[39;00m\n",
      "File \u001b[1;32mc:\\Users\\sasa5\\anaconda3\\envs\\HugFace\\Lib\\site-packages\\transformers\\models\\roberta\\modeling_roberta.py:1196\u001b[0m, in \u001b[0;36mRobertaForSequenceClassification.forward\u001b[1;34m(self, input_ids, attention_mask, token_type_ids, position_ids, head_mask, inputs_embeds, labels, output_attentions, output_hidden_states, return_dict)\u001b[0m\n\u001b[0;32m   1188\u001b[0m \u001b[39m\u001b[39m\u001b[39mr\u001b[39m\u001b[39m\"\"\"\u001b[39;00m\n\u001b[0;32m   1189\u001b[0m \u001b[39mlabels (`torch.LongTensor` of shape `(batch_size,)`, *optional*):\u001b[39;00m\n\u001b[0;32m   1190\u001b[0m \u001b[39m    Labels for computing the sequence classification/regression loss. Indices should be in `[0, ...,\u001b[39;00m\n\u001b[0;32m   1191\u001b[0m \u001b[39m    config.num_labels - 1]`. If `config.num_labels == 1` a regression loss is computed (Mean-Square loss), If\u001b[39;00m\n\u001b[0;32m   1192\u001b[0m \u001b[39m    `config.num_labels > 1` a classification loss is computed (Cross-Entropy).\u001b[39;00m\n\u001b[0;32m   1193\u001b[0m \u001b[39m\"\"\"\u001b[39;00m\n\u001b[0;32m   1194\u001b[0m return_dict \u001b[39m=\u001b[39m return_dict \u001b[39mif\u001b[39;00m return_dict \u001b[39mis\u001b[39;00m \u001b[39mnot\u001b[39;00m \u001b[39mNone\u001b[39;00m \u001b[39melse\u001b[39;00m \u001b[39mself\u001b[39m\u001b[39m.\u001b[39mconfig\u001b[39m.\u001b[39muse_return_dict\n\u001b[1;32m-> 1196\u001b[0m outputs \u001b[39m=\u001b[39m \u001b[39mself\u001b[39;49m\u001b[39m.\u001b[39;49mroberta(\n\u001b[0;32m   1197\u001b[0m     input_ids,\n\u001b[0;32m   1198\u001b[0m     attention_mask\u001b[39m=\u001b[39;49mattention_mask,\n\u001b[0;32m   1199\u001b[0m     token_type_ids\u001b[39m=\u001b[39;49mtoken_type_ids,\n\u001b[0;32m   1200\u001b[0m     position_ids\u001b[39m=\u001b[39;49mposition_ids,\n\u001b[0;32m   1201\u001b[0m     head_mask\u001b[39m=\u001b[39;49mhead_mask,\n\u001b[0;32m   1202\u001b[0m     inputs_embeds\u001b[39m=\u001b[39;49minputs_embeds,\n\u001b[0;32m   1203\u001b[0m     output_attentions\u001b[39m=\u001b[39;49moutput_attentions,\n\u001b[0;32m   1204\u001b[0m     output_hidden_states\u001b[39m=\u001b[39;49moutput_hidden_states,\n\u001b[0;32m   1205\u001b[0m     return_dict\u001b[39m=\u001b[39;49mreturn_dict,\n\u001b[0;32m   1206\u001b[0m )\n\u001b[0;32m   1207\u001b[0m sequence_output \u001b[39m=\u001b[39m outputs[\u001b[39m0\u001b[39m]\n\u001b[0;32m   1208\u001b[0m logits \u001b[39m=\u001b[39m \u001b[39mself\u001b[39m\u001b[39m.\u001b[39mclassifier(sequence_output)\n",
      "File \u001b[1;32mc:\\Users\\sasa5\\anaconda3\\envs\\HugFace\\Lib\\site-packages\\torch\\nn\\modules\\module.py:1519\u001b[0m, in \u001b[0;36mModule._wrapped_call_impl\u001b[1;34m(self, *args, **kwargs)\u001b[0m\n\u001b[0;32m   1517\u001b[0m     \u001b[39mreturn\u001b[39;00m \u001b[39mself\u001b[39m\u001b[39m.\u001b[39m_compiled_call_impl(\u001b[39m*\u001b[39margs, \u001b[39m*\u001b[39m\u001b[39m*\u001b[39mkwargs)  \u001b[39m# type: ignore[misc]\u001b[39;00m\n\u001b[0;32m   1518\u001b[0m \u001b[39melse\u001b[39;00m:\n\u001b[1;32m-> 1519\u001b[0m     \u001b[39mreturn\u001b[39;00m \u001b[39mself\u001b[39;49m\u001b[39m.\u001b[39;49m_call_impl(\u001b[39m*\u001b[39;49margs, \u001b[39m*\u001b[39;49m\u001b[39m*\u001b[39;49mkwargs)\n",
      "File \u001b[1;32mc:\\Users\\sasa5\\anaconda3\\envs\\HugFace\\Lib\\site-packages\\torch\\nn\\modules\\module.py:1528\u001b[0m, in \u001b[0;36mModule._call_impl\u001b[1;34m(self, *args, **kwargs)\u001b[0m\n\u001b[0;32m   1523\u001b[0m \u001b[39m# If we don't have any hooks, we want to skip the rest of the logic in\u001b[39;00m\n\u001b[0;32m   1524\u001b[0m \u001b[39m# this function, and just call forward.\u001b[39;00m\n\u001b[0;32m   1525\u001b[0m \u001b[39mif\u001b[39;00m \u001b[39mnot\u001b[39;00m (\u001b[39mself\u001b[39m\u001b[39m.\u001b[39m_backward_hooks \u001b[39mor\u001b[39;00m \u001b[39mself\u001b[39m\u001b[39m.\u001b[39m_backward_pre_hooks \u001b[39mor\u001b[39;00m \u001b[39mself\u001b[39m\u001b[39m.\u001b[39m_forward_hooks \u001b[39mor\u001b[39;00m \u001b[39mself\u001b[39m\u001b[39m.\u001b[39m_forward_pre_hooks\n\u001b[0;32m   1526\u001b[0m         \u001b[39mor\u001b[39;00m _global_backward_pre_hooks \u001b[39mor\u001b[39;00m _global_backward_hooks\n\u001b[0;32m   1527\u001b[0m         \u001b[39mor\u001b[39;00m _global_forward_hooks \u001b[39mor\u001b[39;00m _global_forward_pre_hooks):\n\u001b[1;32m-> 1528\u001b[0m     \u001b[39mreturn\u001b[39;00m forward_call(\u001b[39m*\u001b[39;49margs, \u001b[39m*\u001b[39;49m\u001b[39m*\u001b[39;49mkwargs)\n\u001b[0;32m   1530\u001b[0m \u001b[39mtry\u001b[39;00m:\n\u001b[0;32m   1531\u001b[0m     result \u001b[39m=\u001b[39m \u001b[39mNone\u001b[39;00m\n",
      "File \u001b[1;32mc:\\Users\\sasa5\\anaconda3\\envs\\HugFace\\Lib\\site-packages\\transformers\\models\\roberta\\modeling_roberta.py:837\u001b[0m, in \u001b[0;36mRobertaModel.forward\u001b[1;34m(self, input_ids, attention_mask, token_type_ids, position_ids, head_mask, inputs_embeds, encoder_hidden_states, encoder_attention_mask, past_key_values, use_cache, output_attentions, output_hidden_states, return_dict)\u001b[0m\n\u001b[0;32m    830\u001b[0m \u001b[39m# Prepare head mask if needed\u001b[39;00m\n\u001b[0;32m    831\u001b[0m \u001b[39m# 1.0 in head_mask indicate we keep the head\u001b[39;00m\n\u001b[0;32m    832\u001b[0m \u001b[39m# attention_probs has shape bsz x n_heads x N x N\u001b[39;00m\n\u001b[0;32m    833\u001b[0m \u001b[39m# input head_mask has shape [num_heads] or [num_hidden_layers x num_heads]\u001b[39;00m\n\u001b[0;32m    834\u001b[0m \u001b[39m# and head_mask is converted to shape [num_hidden_layers x batch x num_heads x seq_length x seq_length]\u001b[39;00m\n\u001b[0;32m    835\u001b[0m head_mask \u001b[39m=\u001b[39m \u001b[39mself\u001b[39m\u001b[39m.\u001b[39mget_head_mask(head_mask, \u001b[39mself\u001b[39m\u001b[39m.\u001b[39mconfig\u001b[39m.\u001b[39mnum_hidden_layers)\n\u001b[1;32m--> 837\u001b[0m embedding_output \u001b[39m=\u001b[39m \u001b[39mself\u001b[39;49m\u001b[39m.\u001b[39;49membeddings(\n\u001b[0;32m    838\u001b[0m     input_ids\u001b[39m=\u001b[39;49minput_ids,\n\u001b[0;32m    839\u001b[0m     position_ids\u001b[39m=\u001b[39;49mposition_ids,\n\u001b[0;32m    840\u001b[0m     token_type_ids\u001b[39m=\u001b[39;49mtoken_type_ids,\n\u001b[0;32m    841\u001b[0m     inputs_embeds\u001b[39m=\u001b[39;49minputs_embeds,\n\u001b[0;32m    842\u001b[0m     past_key_values_length\u001b[39m=\u001b[39;49mpast_key_values_length,\n\u001b[0;32m    843\u001b[0m )\n\u001b[0;32m    844\u001b[0m encoder_outputs \u001b[39m=\u001b[39m \u001b[39mself\u001b[39m\u001b[39m.\u001b[39mencoder(\n\u001b[0;32m    845\u001b[0m     embedding_output,\n\u001b[0;32m    846\u001b[0m     attention_mask\u001b[39m=\u001b[39mextended_attention_mask,\n\u001b[1;32m   (...)\u001b[0m\n\u001b[0;32m    854\u001b[0m     return_dict\u001b[39m=\u001b[39mreturn_dict,\n\u001b[0;32m    855\u001b[0m )\n\u001b[0;32m    856\u001b[0m sequence_output \u001b[39m=\u001b[39m encoder_outputs[\u001b[39m0\u001b[39m]\n",
      "File \u001b[1;32mc:\\Users\\sasa5\\anaconda3\\envs\\HugFace\\Lib\\site-packages\\torch\\nn\\modules\\module.py:1519\u001b[0m, in \u001b[0;36mModule._wrapped_call_impl\u001b[1;34m(self, *args, **kwargs)\u001b[0m\n\u001b[0;32m   1517\u001b[0m     \u001b[39mreturn\u001b[39;00m \u001b[39mself\u001b[39m\u001b[39m.\u001b[39m_compiled_call_impl(\u001b[39m*\u001b[39margs, \u001b[39m*\u001b[39m\u001b[39m*\u001b[39mkwargs)  \u001b[39m# type: ignore[misc]\u001b[39;00m\n\u001b[0;32m   1518\u001b[0m \u001b[39melse\u001b[39;00m:\n\u001b[1;32m-> 1519\u001b[0m     \u001b[39mreturn\u001b[39;00m \u001b[39mself\u001b[39;49m\u001b[39m.\u001b[39;49m_call_impl(\u001b[39m*\u001b[39;49margs, \u001b[39m*\u001b[39;49m\u001b[39m*\u001b[39;49mkwargs)\n",
      "File \u001b[1;32mc:\\Users\\sasa5\\anaconda3\\envs\\HugFace\\Lib\\site-packages\\torch\\nn\\modules\\module.py:1528\u001b[0m, in \u001b[0;36mModule._call_impl\u001b[1;34m(self, *args, **kwargs)\u001b[0m\n\u001b[0;32m   1523\u001b[0m \u001b[39m# If we don't have any hooks, we want to skip the rest of the logic in\u001b[39;00m\n\u001b[0;32m   1524\u001b[0m \u001b[39m# this function, and just call forward.\u001b[39;00m\n\u001b[0;32m   1525\u001b[0m \u001b[39mif\u001b[39;00m \u001b[39mnot\u001b[39;00m (\u001b[39mself\u001b[39m\u001b[39m.\u001b[39m_backward_hooks \u001b[39mor\u001b[39;00m \u001b[39mself\u001b[39m\u001b[39m.\u001b[39m_backward_pre_hooks \u001b[39mor\u001b[39;00m \u001b[39mself\u001b[39m\u001b[39m.\u001b[39m_forward_hooks \u001b[39mor\u001b[39;00m \u001b[39mself\u001b[39m\u001b[39m.\u001b[39m_forward_pre_hooks\n\u001b[0;32m   1526\u001b[0m         \u001b[39mor\u001b[39;00m _global_backward_pre_hooks \u001b[39mor\u001b[39;00m _global_backward_hooks\n\u001b[0;32m   1527\u001b[0m         \u001b[39mor\u001b[39;00m _global_forward_hooks \u001b[39mor\u001b[39;00m _global_forward_pre_hooks):\n\u001b[1;32m-> 1528\u001b[0m     \u001b[39mreturn\u001b[39;00m forward_call(\u001b[39m*\u001b[39;49margs, \u001b[39m*\u001b[39;49m\u001b[39m*\u001b[39;49mkwargs)\n\u001b[0;32m   1530\u001b[0m \u001b[39mtry\u001b[39;00m:\n\u001b[0;32m   1531\u001b[0m     result \u001b[39m=\u001b[39m \u001b[39mNone\u001b[39;00m\n",
      "File \u001b[1;32mc:\\Users\\sasa5\\anaconda3\\envs\\HugFace\\Lib\\site-packages\\transformers\\models\\roberta\\modeling_roberta.py:125\u001b[0m, in \u001b[0;36mRobertaEmbeddings.forward\u001b[1;34m(self, input_ids, token_type_ids, position_ids, inputs_embeds, past_key_values_length)\u001b[0m\n\u001b[0;32m    122\u001b[0m         token_type_ids \u001b[39m=\u001b[39m torch\u001b[39m.\u001b[39mzeros(input_shape, dtype\u001b[39m=\u001b[39mtorch\u001b[39m.\u001b[39mlong, device\u001b[39m=\u001b[39m\u001b[39mself\u001b[39m\u001b[39m.\u001b[39mposition_ids\u001b[39m.\u001b[39mdevice)\n\u001b[0;32m    124\u001b[0m \u001b[39mif\u001b[39;00m inputs_embeds \u001b[39mis\u001b[39;00m \u001b[39mNone\u001b[39;00m:\n\u001b[1;32m--> 125\u001b[0m     inputs_embeds \u001b[39m=\u001b[39m \u001b[39mself\u001b[39;49m\u001b[39m.\u001b[39;49mword_embeddings(input_ids)\n\u001b[0;32m    126\u001b[0m token_type_embeddings \u001b[39m=\u001b[39m \u001b[39mself\u001b[39m\u001b[39m.\u001b[39mtoken_type_embeddings(token_type_ids)\n\u001b[0;32m    128\u001b[0m embeddings \u001b[39m=\u001b[39m inputs_embeds \u001b[39m+\u001b[39m token_type_embeddings\n",
      "File \u001b[1;32mc:\\Users\\sasa5\\anaconda3\\envs\\HugFace\\Lib\\site-packages\\torch\\nn\\modules\\module.py:1519\u001b[0m, in \u001b[0;36mModule._wrapped_call_impl\u001b[1;34m(self, *args, **kwargs)\u001b[0m\n\u001b[0;32m   1517\u001b[0m     \u001b[39mreturn\u001b[39;00m \u001b[39mself\u001b[39m\u001b[39m.\u001b[39m_compiled_call_impl(\u001b[39m*\u001b[39margs, \u001b[39m*\u001b[39m\u001b[39m*\u001b[39mkwargs)  \u001b[39m# type: ignore[misc]\u001b[39;00m\n\u001b[0;32m   1518\u001b[0m \u001b[39melse\u001b[39;00m:\n\u001b[1;32m-> 1519\u001b[0m     \u001b[39mreturn\u001b[39;00m \u001b[39mself\u001b[39;49m\u001b[39m.\u001b[39;49m_call_impl(\u001b[39m*\u001b[39;49margs, \u001b[39m*\u001b[39;49m\u001b[39m*\u001b[39;49mkwargs)\n",
      "File \u001b[1;32mc:\\Users\\sasa5\\anaconda3\\envs\\HugFace\\Lib\\site-packages\\torch\\nn\\modules\\module.py:1528\u001b[0m, in \u001b[0;36mModule._call_impl\u001b[1;34m(self, *args, **kwargs)\u001b[0m\n\u001b[0;32m   1523\u001b[0m \u001b[39m# If we don't have any hooks, we want to skip the rest of the logic in\u001b[39;00m\n\u001b[0;32m   1524\u001b[0m \u001b[39m# this function, and just call forward.\u001b[39;00m\n\u001b[0;32m   1525\u001b[0m \u001b[39mif\u001b[39;00m \u001b[39mnot\u001b[39;00m (\u001b[39mself\u001b[39m\u001b[39m.\u001b[39m_backward_hooks \u001b[39mor\u001b[39;00m \u001b[39mself\u001b[39m\u001b[39m.\u001b[39m_backward_pre_hooks \u001b[39mor\u001b[39;00m \u001b[39mself\u001b[39m\u001b[39m.\u001b[39m_forward_hooks \u001b[39mor\u001b[39;00m \u001b[39mself\u001b[39m\u001b[39m.\u001b[39m_forward_pre_hooks\n\u001b[0;32m   1526\u001b[0m         \u001b[39mor\u001b[39;00m _global_backward_pre_hooks \u001b[39mor\u001b[39;00m _global_backward_hooks\n\u001b[0;32m   1527\u001b[0m         \u001b[39mor\u001b[39;00m _global_forward_hooks \u001b[39mor\u001b[39;00m _global_forward_pre_hooks):\n\u001b[1;32m-> 1528\u001b[0m     \u001b[39mreturn\u001b[39;00m forward_call(\u001b[39m*\u001b[39;49margs, \u001b[39m*\u001b[39;49m\u001b[39m*\u001b[39;49mkwargs)\n\u001b[0;32m   1530\u001b[0m \u001b[39mtry\u001b[39;00m:\n\u001b[0;32m   1531\u001b[0m     result \u001b[39m=\u001b[39m \u001b[39mNone\u001b[39;00m\n",
      "File \u001b[1;32mc:\\Users\\sasa5\\anaconda3\\envs\\HugFace\\Lib\\site-packages\\torch\\nn\\modules\\sparse.py:162\u001b[0m, in \u001b[0;36mEmbedding.forward\u001b[1;34m(self, input)\u001b[0m\n\u001b[0;32m    161\u001b[0m \u001b[39mdef\u001b[39;00m \u001b[39mforward\u001b[39m(\u001b[39mself\u001b[39m, \u001b[39minput\u001b[39m: Tensor) \u001b[39m-\u001b[39m\u001b[39m>\u001b[39m Tensor:\n\u001b[1;32m--> 162\u001b[0m     \u001b[39mreturn\u001b[39;00m F\u001b[39m.\u001b[39;49membedding(\n\u001b[0;32m    163\u001b[0m         \u001b[39minput\u001b[39;49m, \u001b[39mself\u001b[39;49m\u001b[39m.\u001b[39;49mweight, \u001b[39mself\u001b[39;49m\u001b[39m.\u001b[39;49mpadding_idx, \u001b[39mself\u001b[39;49m\u001b[39m.\u001b[39;49mmax_norm,\n\u001b[0;32m    164\u001b[0m         \u001b[39mself\u001b[39;49m\u001b[39m.\u001b[39;49mnorm_type, \u001b[39mself\u001b[39;49m\u001b[39m.\u001b[39;49mscale_grad_by_freq, \u001b[39mself\u001b[39;49m\u001b[39m.\u001b[39;49msparse)\n",
      "File \u001b[1;32mc:\\Users\\sasa5\\anaconda3\\envs\\HugFace\\Lib\\site-packages\\torch\\nn\\functional.py:2233\u001b[0m, in \u001b[0;36membedding\u001b[1;34m(input, weight, padding_idx, max_norm, norm_type, scale_grad_by_freq, sparse)\u001b[0m\n\u001b[0;32m   2227\u001b[0m     \u001b[39m# Note [embedding_renorm set_grad_enabled]\u001b[39;00m\n\u001b[0;32m   2228\u001b[0m     \u001b[39m# XXX: equivalent to\u001b[39;00m\n\u001b[0;32m   2229\u001b[0m     \u001b[39m# with torch.no_grad():\u001b[39;00m\n\u001b[0;32m   2230\u001b[0m     \u001b[39m#   torch.embedding_renorm_\u001b[39;00m\n\u001b[0;32m   2231\u001b[0m     \u001b[39m# remove once script supports set_grad_enabled\u001b[39;00m\n\u001b[0;32m   2232\u001b[0m     _no_grad_embedding_renorm_(weight, \u001b[39minput\u001b[39m, max_norm, norm_type)\n\u001b[1;32m-> 2233\u001b[0m \u001b[39mreturn\u001b[39;00m torch\u001b[39m.\u001b[39;49membedding(weight, \u001b[39minput\u001b[39;49m, padding_idx, scale_grad_by_freq, sparse)\n",
      "\u001b[1;31mRuntimeError\u001b[0m: Expected tensor for argument #1 'indices' to have one of the following scalar types: Long, Int; but got torch.FloatTensor instead (while checking arguments for embedding)"
     ]
    }
   ],
   "source": [
    "TestLLM.compare_models(0, \"NEG\", \"BERTic\", \"BERTicovo\")"
   ]
  },
  {
   "cell_type": "code",
   "execution_count": null,
   "id": "1fcae7df-61d2-4bec-b0db-e66d62dbbeb1",
   "metadata": {},
   "outputs": [
    {
     "name": "stdout",
     "output_type": "stream",
     "text": [
      "Texts correctly classified as class 1 by both models:\n",
      " 0     Kvalitet nečega što nije adekvatno ili perfektno.\n",
      "1             Posramiti nekoga; povrediti nečiji ponos.\n",
      "2                       Kvalitet onog ko nije brižljiv.\n",
      "3     koji zaslužuje sažaljenje ili podstiče na saža...\n",
      "4                 nenormalna depresija i nezadovoljstvo\n",
      "5     Stanje u kome čovek ne može da funkcioniše nor...\n",
      "6     nejasno i neprijatno osećanje koje se ima u iš...\n",
      "7               Smatrati da je nešto loše ili pogrešno.\n",
      "8                       okrutno ili nehumano postupanje\n",
      "9                           tuga izazvana bolom i tugom\n",
      "10               žalostan zbog gubitka ili uskraćenosti\n",
      "11                      Uzrok velikih patnji i nesreće.\n",
      "12    Intenzivno ili preterano loš ili neprijatan po...\n",
      "13    iznenadno stanje žestoke emocionalne uznemiren...\n",
      "14    mentalno uznemiren zbog moguće nesreće ili opa...\n",
      "15    koji je označen beznadežnošću ili ispoljava be...\n",
      "16                    nedolično ili nemoralno ponašanje\n",
      "17                                 okarakterisan zlobom\n",
      "18                   izuzetno loš ili nezadovoljavajući\n",
      "19             Prolivati suze zbog tuge, besa ili bola.\n",
      "20    Koji nema potrebne sposobnosti, veštinu ili zn...\n",
      "21    koji izaziva neprijatnost; na primer, neprijat...\n",
      "Name: X, dtype: object\n",
      "Texts correctly classified as class 1 by the first model but not the second:\n",
      " 691                              biti uplašen, plašiti se\n",
      "970                               uopštenih osećanja tuge\n",
      "996     onaj kojem se ne može ukazati poverenje, u kog...\n",
      "1365                 koji odražava sumornost i smrknutost\n",
      "1407                              zlonamerno zadovoljstvo\n",
      "1454    koji misli najgore o ljudskoj prirodi i motivi...\n",
      "2733                     biti odbojan; izazivati averziju\n",
      "2768             odsustvo moralnih ili duhovnih vrednosti\n",
      "2780                     koji nije raspoložen da sarađuje\n",
      "2965                                    moralno iskvariti\n",
      "3592                Biti lažljiv, neiskrene prema nekome.\n",
      "3687                   veoma nesrećan; ispunjen mizerijom\n",
      "4877            Osobina onoga što ne zaslužuje poverenje.\n",
      "Name: X, dtype: object\n",
      "Texts correctly classified as class 1 by the second model but not the first:\n",
      " 417     Koji nije originalan; nije produktivan, ne don...\n",
      "619     koji izaziva iznenađenje, čuđenje ili zadivlje...\n",
      "1373    Ono što nije lako, zahteva veliki fizički ili ...\n",
      "1771    učiniti da neko ili nešto ne bude osetljiv ili...\n",
      "2315      svako odstupanje od zdravog ili normanog stanja\n",
      "4351    Stanje koje karakterišu osećanja u rasponu od ...\n",
      "Name: X, dtype: object\n"
     ]
    }
   ],
   "source": [
    "TestLLM.compare_models(0, \"NEG\", \"BERTic\", \"SRGPT\")"
   ]
  },
  {
   "cell_type": "code",
   "execution_count": null,
   "id": "0f054f5b-71a1-4a4a-940e-d73845721abb",
   "metadata": {},
   "outputs": [
    {
     "name": "stdout",
     "output_type": "stream",
     "text": [
      "128                         Biti prihvatljiv ili pristao.\n",
      "380            Osećanje samopoštovanja i lične vrednosti.\n",
      "436              koji ohrabruje, odobrava ili zadovoljava\n",
      "812     Kvalitet koji čini daa je nešto poželjno, vred...\n",
      "1135            (za naglašavanje značenja) izuzetno dobro\n",
      "2031            Biti nekome prihvatljiv ili odgovarajući.\n",
      "2269               Osobina onoga što zaslužuje poverenje.\n",
      "3176                               osećanje naklonjenosti\n",
      "3471           radnja koju karakteriše dobro raspoloženje\n",
      "4098                           koji čini ili donosi dobro\n",
      "Name: X, dtype: object\n"
     ]
    }
   ],
   "source": [
    "TestLLM.print_correctly_classified_instances(2, \"POS\" , \"SRGPT\")"
   ]
  },
  {
   "cell_type": "code",
   "execution_count": null,
   "id": "e2f4c4a9-ee3c-4402-b73b-3740cac1a652",
   "metadata": {},
   "outputs": [
    {
     "name": "stdout",
     "output_type": "stream",
     "text": [
      "76                    osećanje duboke ljubavi i divljenja\n",
      "588     Koji može da čini po slobodnoj volji; koji nij...\n",
      "982     gajiti osećanja dubokog poštovanja i straha pr...\n",
      "1275    kvalitet nečega što je isto po količini, meri,...\n",
      "1290    koji pokazuje ili je motivisan saosećanjem, ra...\n",
      "1864                  osećanje prijateljstva i uvažavanja\n",
      "2056    Osećanja proživljena kada je neko u zadovoljno...\n",
      "2630           koji ispoljava pogodan ili povoljan uticaj\n",
      "2857                           koji lako žali i sažaljeva\n",
      "2879    Osećanje naklonjenosti drugim osobama; uživanj...\n",
      "3179           Osećanje samopoštovanja i lične vrednosti.\n",
      "3481                         koji čini živahnim i veselim\n",
      "3611                        Biti zdrav, osećati se dobro.\n",
      "3675    Onaj koji uživa ili pokazuje radost, zadovoljs...\n",
      "3781                     osećati zadovoljstvo zbog nečega\n",
      "4336    Stanje pozitivnih osećanja, od zadovoljstva do...\n",
      "4509    osobina ljudi da veruju u poštenje i pouzdanos...\n",
      "4649              koji ima urođenu sklonost prema dobroti\n",
      "Name: X, dtype: object\n"
     ]
    }
   ],
   "source": [
    "TestLLM.print_correctly_classified_instances(4, \"POS\" , \"SRGPT\")"
   ]
  },
  {
   "cell_type": "code",
   "execution_count": null,
   "id": "b3a941fc-32c2-4ba1-b97d-6d02620596e7",
   "metadata": {},
   "outputs": [
    {
     "name": "stdout",
     "output_type": "stream",
     "text": [
      "109        Koji nije popustljiv, kojim se teško upravlja.\n",
      "215                                         Osećati tugu.\n",
      "437                           koji izaziva strah ili užas\n",
      "512     škrtost koja proizilazi iz brige za sopstvenu ...\n",
      "634                      Koji nije naklonjen prea nečemu.\n",
      "635                    onaj koji nije stalan ili postojan\n",
      "638                                      uzrokovati strah\n",
      "778                      koji nije raspoložen da sarađuje\n",
      "828        izuzetno uvredljiv za moral; koji izaziva užas\n",
      "936                          Stanje u kome je neko tužan.\n",
      "1391                Usmrtiti namerno i sa predumišljajem.\n",
      "1688                      Ono što izaziva bol ili patnju.\n",
      "1729                            povrediti nečija osećanja\n",
      "1835          Kvalitet koji ne pruža zadovoljstvo čulima.\n",
      "1846                 svojstvo onoga kome nedostaje živost\n",
      "2418                     biti odbojan; izazivati averziju\n",
      "2479    Slabljenje ili degeneracije, posebno usled nek...\n",
      "2835                          tuga izazvana bolom i tugom\n",
      "2858           stanje bola ili patnje zbog lošeg zdravlja\n",
      "2899    koji oseća ili ispoljava žalost, naročito zbog...\n",
      "2902                                   Koji trpi atrofiju\n",
      "3001    Onaj koji proživljava tugu, žalost ili nezadov...\n",
      "3353    onaj kojem se ne može ukazati poverenje, u kog...\n",
      "3704                                  osećati fizički bol\n",
      "3966             osećanje velike utučenosti i melanholije\n",
      "3987          Koji na sebi ima prljavštinu ili nečistoću.\n",
      "4055    Onemogućen i nije slobodan; ne mpože da deluje...\n",
      "4080              svaka šteta proistekla iz povrede prava\n",
      "4491             odsustvo moralnih ili duhovnih vrednosti\n",
      "4537                                 Koji nije nezavisan.\n",
      "4614      Koji se protivi pravilima ili usvojenoj praksi.\n",
      "Name: X, dtype: object\n"
     ]
    }
   ],
   "source": [
    "TestLLM.print_correctly_classified_instances(4, \"NEG\" , \"SRGPT\")"
   ]
  },
  {
   "cell_type": "code",
   "execution_count": null,
   "id": "7532c5a2-92f2-423c-a06d-6148efe6db4d",
   "metadata": {},
   "outputs": [
    {
     "name": "stdout",
     "output_type": "stream",
     "text": [
      "[[4921   25]\n",
      " [  54   18]]\n",
      "              precision    recall  f1-score   support\n",
      "\n",
      "           0       0.99      0.99      0.99      4946\n",
      "           1       0.42      0.25      0.31        72\n",
      "\n",
      "    accuracy                           0.98      5018\n",
      "   macro avg       0.70      0.62      0.65      5018\n",
      "weighted avg       0.98      0.98      0.98      5018\n",
      "\n"
     ]
    }
   ],
   "source": [
    "TestLLM.test_model(4, \"POS\", \"SRGPT\")"
   ]
  },
  {
   "cell_type": "code",
   "execution_count": null,
   "id": "fddcdf9e-834d-4138-9854-d3f7c40cefa2",
   "metadata": {},
   "outputs": [
    {
     "name": "stdout",
     "output_type": "stream",
     "text": [
      "[[4933   13]\n",
      " [  47   25]]\n",
      "              precision    recall  f1-score   support\n",
      "\n",
      "           0       0.99      1.00      0.99      4946\n",
      "           1       0.66      0.35      0.45        72\n",
      "\n",
      "    accuracy                           0.99      5018\n",
      "   macro avg       0.82      0.67      0.72      5018\n",
      "weighted avg       0.99      0.99      0.99      5018\n",
      "\n"
     ]
    }
   ],
   "source": [
    "TestLLM.test_model(4, \"POS\", \"BERTic\")"
   ]
  },
  {
   "cell_type": "code",
   "execution_count": null,
   "id": "a3965c4c-ad93-4268-84b3-b5decd336c58",
   "metadata": {},
   "outputs": [
    {
     "name": "stdout",
     "output_type": "stream",
     "text": [
      "[[4930   12]\n",
      " [  56   10]]\n",
      "              precision    recall  f1-score   support\n",
      "\n",
      "           0       0.99      1.00      0.99      4942\n",
      "           1       0.45      0.15      0.23        66\n",
      "\n",
      "    accuracy                           0.99      5008\n",
      "   macro avg       0.72      0.57      0.61      5008\n",
      "weighted avg       0.98      0.99      0.98      5008\n",
      "\n"
     ]
    }
   ],
   "source": [
    "TestLLM.test_model(2, \"POS\", \"SRGPT\")"
   ]
  },
  {
   "cell_type": "code",
   "execution_count": null,
   "id": "16c498f4-73cf-40d3-8281-be062442907c",
   "metadata": {},
   "outputs": [
    {
     "name": "stdout",
     "output_type": "stream",
     "text": [
      "[[4906   32]\n",
      " [  49   31]]\n",
      "              precision    recall  f1-score   support\n",
      "\n",
      "           0       0.99      0.99      0.99      4938\n",
      "           1       0.49      0.39      0.43        80\n",
      "\n",
      "    accuracy                           0.98      5018\n",
      "   macro avg       0.74      0.69      0.71      5018\n",
      "weighted avg       0.98      0.98      0.98      5018\n",
      "\n"
     ]
    }
   ],
   "source": [
    "TestLLM.test_model(4, \"NEG\", \"SRGPT\")"
   ]
  },
  {
   "cell_type": "code",
   "execution_count": null,
   "id": "1592a823-645a-419d-b922-9cfe41dab8e8",
   "metadata": {},
   "outputs": [
    {
     "name": "stdout",
     "output_type": "stream",
     "text": [
      "[[4912   26]\n",
      " [  28   52]]\n",
      "              precision    recall  f1-score   support\n",
      "\n",
      "           0       0.99      0.99      0.99      4938\n",
      "           1       0.67      0.65      0.66        80\n",
      "\n",
      "    accuracy                           0.99      5018\n",
      "   macro avg       0.83      0.82      0.83      5018\n",
      "weighted avg       0.99      0.99      0.99      5018\n",
      "\n"
     ]
    }
   ],
   "source": [
    "TestLLM.test_model(4, \"NEG\", \"BERTic\")"
   ]
  },
  {
   "cell_type": "code",
   "execution_count": null,
   "id": "14463e4a-3696-4b58-8704-c8bd056fc047",
   "metadata": {},
   "outputs": [
    {
     "name": "stdout",
     "output_type": "stream",
     "text": [
      "[[4901   31]\n",
      " [  46   30]]\n",
      "              precision    recall  f1-score   support\n",
      "\n",
      "           0       0.99      0.99      0.99      4932\n",
      "           1       0.49      0.39      0.44        76\n",
      "\n",
      "    accuracy                           0.98      5008\n",
      "   macro avg       0.74      0.69      0.72      5008\n",
      "weighted avg       0.98      0.98      0.98      5008\n",
      "\n"
     ]
    }
   ],
   "source": [
    "TestLLM.test_model(2, \"NEG\", \"SRGPT\")"
   ]
  },
  {
   "cell_type": "code",
   "execution_count": null,
   "id": "0b523721-802d-46b9-a847-630beead7a54",
   "metadata": {},
   "outputs": [],
   "source": []
  },
  {
   "cell_type": "code",
   "execution_count": null,
   "id": "288fb33b-5b98-42e6-a8ce-5b08cd64b034",
   "metadata": {
    "scrolled": true
   },
   "outputs": [
    {
     "name": "stdout",
     "output_type": "stream",
     "text": [
      "Texts misclassified for class 1 by both models:\n",
      " 0                      Od velikog značaja ili važnosti.\n",
      "1                        osoba koja voli ili je voljena\n",
      "2                 angažovati ili unajmiti za neki posao\n",
      "3           preparat koji se koristi za čišćenje nečega\n",
      "4     Ublažavanje patnje; pokazivanje velike dobrote...\n",
      "5                               Čin ili proces merenja.\n",
      "6            sposoban za korektno i validno rezonovanje\n",
      "7             Učiniti svetim pomoću religijskih obreda.\n",
      "8     Čin ukrašavanja nečega (u nadi da će od toga p...\n",
      "9                      Postati stabilan ili stabilniji.\n",
      "10                              Ukazati poverenje kome.\n",
      "11                        Stanje zrelosti; puni razvoj.\n",
      "12                                 Ispuniti očekivanja.\n",
      "13        koji donosi spasenje ili iskupljenje od greha\n",
      "14    Koji karakteriše životinje za razliku od biljaka.\n",
      "15                                  biti privlačan kome\n",
      "16                   Čin kojim se čini neko dobro delo.\n",
      "17                                 postići bod ili cilj\n",
      "18                                       Koji se kreće.\n",
      "19                      Koji stvarno postoji, gzistira.\n",
      "20    Sposobnost da se razume; razumeti i profitirat...\n",
      "21                               kojeg je neko uveselio\n",
      "22       Voljena osoba; koristi se u izrazima od milja.\n",
      "23    briga o razlikovanju dobra i zla ili pravednog...\n",
      "24    Inherentni kompleks atributa koji određuju mor...\n",
      "25    ustanovljeno,zasnovano na zakonu ili na zvanič...\n",
      "26            smanjiti bol ili neprijatnosti ; ublažiti\n",
      "27         Neko višeg ranga ili položaja ili kvaliteta.\n",
      "28    Osnovno osećanje koje se teško definiše ali ko...\n",
      "29                na visokom nivou po rangu ili značaju\n",
      "30    Koji proizvodi ili je sposoban da proizvede na...\n",
      "31    lična sloboda od ropstva, zarobljeništva i ugn...\n",
      "32                                    Spojen ili vezan.\n",
      "33                            i u metaforičkom značenju\n",
      "34         Oslobođen spoljašnje kontrole i ograničenja.\n",
      "35    sposobnost postojanja ili delovanja u harmonič...\n",
      "36    onaj koji je po moralnim kvalitetima ili izgle...\n",
      "37    Stvoriti mišljenje o nečemu; suditi oprezno; n...\n",
      "38        Priroda ili svojstvo onoga ko je emocionalan.\n",
      "39                                  Čin prilaska cilju.\n",
      "40              Potpuno verovanje u osobu ili plan itd.\n",
      "41    učiniti čistim ili slobodnim od greha ili krivice\n",
      "42                         Obezbediti zabavu za nekoga.\n",
      "43                             Zabava koja drži pažnju.\n",
      "Name: X, dtype: object\n",
      "Texts misclassified for class 1 by the first model but not the second:\n",
      " 588     Koji može da čini po slobodnoj volji; koji nij...\n",
      "982     gajiti osećanja dubokog poštovanja i straha pr...\n",
      "1275    kvalitet nečega što je isto po količini, meri,...\n",
      "Name: X, dtype: object\n",
      "Texts misclassified for class 1 by the second model but not the first:\n",
      " 91                                  Učiniti boljim.\n",
      "479                               Veliko bogatstvo.\n",
      "691                      koji čini ili donosi dobro\n",
      "1664         Imati sposobnost ili moć kreativnosti.\n",
      "2746                                 veseo i ozaren\n",
      "2764                 Stav divljenja ili poštovanja.\n",
      "3187                  prijatno i površno uzbuđujući\n",
      "3655       Kvalitet koji pruža zadovoljstvo čulima.\n",
      "4624                   držanje do moralnih principa\n",
      "4953    Biti potpun u svojoj vrsti, bez nedostataka\n",
      "Name: X, dtype: object\n"
     ]
    }
   ],
   "source": [
    "TestLLM.compare_models(4, \"POS\", \"BERTic\", \"SRGPT\", compare_misclassified= True )"
   ]
  },
  {
   "cell_type": "code",
   "execution_count": null,
   "id": "b45fdfb9-87a7-44f1-a88f-00e838563c02",
   "metadata": {},
   "outputs": [
    {
     "name": "stdout",
     "output_type": "stream",
     "text": [
      "Texts misclassified for class 1 by both models:\n",
      " 0              Radnik koji je najamljen da obavi posao.\n",
      "1                 Umanjiti po vrednosti, karakteru itd.\n",
      "2                      lišiti slobode; držati u zatvoru\n",
      "3        Koji nije vlik po količini, broju ili stepenu.\n",
      "4                                Ljudski čin stvaranja.\n",
      "5     Jako osećanje, usmereno prema nekoj stvarnoj i...\n",
      "6     Bolest krvi ili narušavanje funkcionisanja krv...\n",
      "7     Tih neprekidan nerazumljiv zvuk; obično ga pra...\n",
      "8     (krivično pravo) pravnosnažna,osuđujuća presud...\n",
      "9               osoba ili firma koja zapošljava radnike\n",
      "10               Sastavljati od komponenata ili delova.\n",
      "11                                 Čin prljanja nečega.\n",
      "12    Pričati na besposlen ili neobavezan način sa e...\n",
      "13    Nesposobnost osobe da se seti ili uradi ono št...\n",
      "14      Čin konstruisanja nečega (kao masšinskog dela).\n",
      "15    Koga karakeriše ili koji pokazuje odbijanje, p...\n",
      "16    Stanje stvari koje je skoro izvan nečije moguć...\n",
      "17                                      Ispuštati vonj.\n",
      "18              Ljudska tvorevina koju je neko stvorio.\n",
      "19                     odbaciti (dokument) kao nevažeci\n",
      "20    Kvalitet onoga što je teško otkriti ili analiz...\n",
      "21                             Započeti ili voditi rat.\n",
      "22                                  Postati nestabilan.\n",
      "23                        Proces promene u niže stanje.\n",
      "24          Govoriti nerazgovetno, obično tihim glasom.\n",
      "25                     Stanje kada je učinjen prekršaj.\n",
      "Name: X, dtype: object\n",
      "Texts misclassified for class 1 by the first model but not the second:\n",
      " 638                         uzrokovati strah\n",
      "1846    svojstvo onoga kome nedostaje živost\n",
      "Name: X, dtype: object\n",
      "Texts misclassified for class 1 by the second model but not the first:\n",
      " 276                       Ne osecati se dobro ili udobno.\n",
      "557           pun ili označen ozlojeđenošću ili zlovoljom\n",
      "1206              Uništiti ili oštetiti na nasilan način.\n",
      "1561               protivno zakonu ili zakonom zabranjeno\n",
      "1631              imati neželjene ili negativne kvalitete\n",
      "1902    Tuga povezana sa nekim učinjenim zlom ili neki...\n",
      "2004                Biti lažljiv, neiskrene prema nekome.\n",
      "2365            Posramiti nekoga; povrediti nečiji ponos.\n",
      "2411                    čin namernog odstupanja od istine\n",
      "2610                              tuga izražena plakanjem\n",
      "2856                                      Duboko dirnuti.\n",
      "2917         divljačko i prekomerno ubijanje mnogih ljudi\n",
      "2930                            ispoljavanje rastuženosti\n",
      "3357                                        loše mirisati\n",
      "3455                       koji oseća nadolazeću opasnost\n",
      "3511                               naneti nekome nepravdu\n",
      "3584                              zlonamerno zadovoljstvo\n",
      "4463    Bilo kakva oštetočina na telu izazvana nasilje...\n",
      "4503    Nepravedno postupanje prema nekoj osobi ili gr...\n",
      "4606    Odsustvo kvaliteta koji bi činili nešto vredni...\n",
      "4631    koji misli najgore o ljudskoj prirodi i motivi...\n",
      "4759                      okrutno ili nehumano postupanje\n",
      "4808                               Izazvati ljutnju, bes.\n",
      "Name: X, dtype: object\n"
     ]
    }
   ],
   "source": [
    "TestLLM.compare_models(4, \"NEG\", \"BERTic\", \"SRGPT\", compare_misclassified= True)"
   ]
  },
  {
   "cell_type": "code",
   "execution_count": null,
   "id": "99dc716b-2aec-4153-a735-c6910662f6e3",
   "metadata": {
    "scrolled": true
   },
   "outputs": [
    {
     "name": "stdout",
     "output_type": "stream",
     "text": [
      "Texts misclassified for class 0 by both models:\n",
      " 0    koji izaziva iznenađenje, čuđenje ili zadivlje...\n",
      "1    koji zaslužuje sažaljenje ili podstiče na saža...\n",
      "2    Onaj koji nema ili ne pokazuje sažaljenje ili ...\n",
      "3                 Ne pridržavanje moralnim principima.\n",
      "4                      Ne osecati se dobro ili udobno.\n",
      "5    Kvalitet nečega što nije adekvatno ili perfektno.\n",
      "6    Kvalitet nekoga ili nečega što nije važno ili ...\n",
      "7    Stanje u kome je neko bogat, ima obilno materi...\n",
      "Name: X, dtype: object\n",
      "Texts misclassified for class 0 by the first model but not the second:\n",
      " 138     Odsustvo kvaliteta koji bi činili nešto vredni...\n",
      "1017                              zlonamerno zadovoljstvo\n",
      "1024                Znanje i vrednosti koje društvo deli.\n",
      "2156                      Kvalitet onog ko nije brižljiv.\n",
      "4737                               nešto što ima vrednost\n",
      "Name: X, dtype: object\n",
      "Texts misclassified for class 0 by the second model but not the first:\n",
      " 225            stanje bola ili patnje zbog lošeg zdravlja\n",
      "459                                   Biti u saglasnosti.\n",
      "1402    Koji nije u skladu sa metodama ili principima ...\n",
      "1438                    Koji je moralno lož ili pogrešan.\n",
      "1533                   Ne ostvariti ni profit ni gubitak.\n",
      "1568                       osobina atraktivno tanke osobe\n",
      "1608                   izuzetno loš ili nezadovoljavajući\n",
      "2091            neprijatno ili razočaravajuće iznenađenje\n",
      "2157                    koji izaziva ili zaslužuje mržnju\n",
      "2289              imati neželjene ili negativne kvalitete\n",
      "2767                 Nešto što se koristi za ulepšavanje.\n",
      "2836                        dostići i eventualno prestići\n",
      "3021                                  Koji nije potreban.\n",
      "3203                     Posedovanje materijalnih dobara.\n",
      "4094    koji se trenutno koristi ili je spreman za upo...\n",
      "4911    rad koji se obavlja sa drugima radi zajedničko...\n",
      "5014     Na primer, o vukanima; koji trajno nije aktivan.\n",
      "Name: X, dtype: object\n"
     ]
    }
   ],
   "source": [
    "TestLLM.compare_models(4, \"POS\", \"BERTic\", \"SRGPT\", compare_misclassified= True, compare_other_class=True)"
   ]
  },
  {
   "cell_type": "code",
   "execution_count": null,
   "id": "6939f683-7286-46f6-852e-3ba2ebcf207f",
   "metadata": {},
   "outputs": [
    {
     "name": "stdout",
     "output_type": "stream",
     "text": [
      "Texts misclassified for class 0 by both models:\n",
      " 0           nešto što nije sigurno, što je pod sumnjom\n",
      "1            Koji privremeno nije aktivan, o vulkanima\n",
      "2                                  Osoba koje ne radi.\n",
      "3    iznenadni masovni strah i nespokojstvo zbog oč...\n",
      "4                 Ne pridržavanje moralnim principima.\n",
      "5      Koji ne predstavlja teškoću, ne iziskuje napor.\n",
      "Name: X, dtype: object\n",
      "Texts misclassified for class 0 by the first model but not the second:\n",
      " 299                                      Čin zagađivanja.\n",
      "680       koji pobuđuje poštovanje, divljenje ili čuđenje\n",
      "859                 Naljutiti, posebno nevažnim uzrocima.\n",
      "1144                         Prekinuti nečije zaposlenje.\n",
      "2233                                    Učiniti nečistim.\n",
      "3083           Osoba koja krši morlne ili zakonske norme.\n",
      "3134                  brutalan, varvarski i divljački čin\n",
      "3282                                    Čin opstruiranja.\n",
      "3373                                      Učiniti slabim.\n",
      "3401    svako ko veruje da nije u stanju da promeni sv...\n",
      "3836             Ubijanje čoveka od strane drugog čoveka.\n",
      "4348                         čiju smrt nenamerno izazvati\n",
      "4510    obilno krvarenje kao posledica povrede krvnog ...\n",
      "4512                           zloupotreba javne funkcije\n",
      "4629                                          grozničnica\n",
      "4686    Gubitak novca ili smanjenje finansijske vredno...\n",
      "4697                      Čovek koji nema nikakve titule.\n",
      "4707                                      preterano velik\n",
      "4850                                        lišiti života\n",
      "5002                             Stanje bolje od ranijeg.\n",
      "Name: X, dtype: object\n",
      "Texts misclassified for class 0 by the second model but not the first:\n",
      " 10      briga o razlikovanju dobra i zla ili pravednog...\n",
      "37           Koji ima veseo karkater, nije sklon brigama.\n",
      "584     biti u stanju mirovanja; biti u situaciji koja...\n",
      "787     smear with blood, as in a hunting initiation r...\n",
      "795     Oporavak ili način čuvanja od gubitka ili opas...\n",
      "1101                           Pisanje koje nije u stihu.\n",
      "1110    neaktivan vulkan na Siciliji, poslednja erupci...\n",
      "1421          govoriti nerazumljivo u religijskoj ekstazi\n",
      "1471    Proizvesti ili stvoriti proizvod stvoren ljuds...\n",
      "1506    Zaklanjati od opasnosti, povrede, uništenja il...\n",
      "1716    zabranjeno zakonom ili zvanično usvojenim prav...\n",
      "1883       ozloglašenost zbog neke posebne karakteristike\n",
      "2137    Izjaviti za nekoga da nije kriv po krivičnim o...\n",
      "2174                               odbrana protiv gubitka\n",
      "2280    presuda(odluka) da optuženi nije kriv, odluka ...\n",
      "2695    osobina da se radi ono što je ispravno i da se...\n",
      "2908          stanje zatočenosti (obično za kratko vreme)\n",
      "2946    osobina onoga koji ne odustaje od svoje ideje,...\n",
      "2948    Koji je pred erupcijom ili izbacuje lavu (o vu...\n",
      "3171                  Ubiti velik broj ljudi bez razlike.\n",
      "3365                                           rod tuplia\n",
      "3391               Nezavistan, nije spojen ili sjedinjen.\n",
      "3731    koji ima tu funkciju da izvršava planove ili n...\n",
      "4146                               koji nema noge (udove)\n",
      "4205                     Odnos nečega prema nečem drugom.\n",
      "4834                 Koji može da se desi ili da postoji.\n",
      "Name: X, dtype: object\n"
     ]
    }
   ],
   "source": [
    "TestLLM.compare_models(4, \"NEG\", \"BERTic\", \"SRGPT\",  compare_misclassified= True, compare_other_class=True)"
   ]
  },
  {
   "cell_type": "code",
   "execution_count": null,
   "id": "75cd938e-940c-4304-b6f9-8dc0018d4eab",
   "metadata": {},
   "outputs": [],
   "source": []
  },
  {
   "cell_type": "code",
   "execution_count": null,
   "id": "d4b99d0f-8635-432f-9e0e-d1343851c289",
   "metadata": {
    "scrolled": true
   },
   "outputs": [
    {
     "name": "stdout",
     "output_type": "stream",
     "text": [
      "Texts correctly classified as class 0 by both models:\n",
      " 0         Nešto što je manje od celine ljudske tvorevine.\n",
      "1       Zgrada u kojoj je bar koji ima dozvolu da služ...\n",
      "2       mehanizam odbrane koji se sastoji u usredsređe...\n",
      "3                               usoljena i sušena haringa\n",
      "4       procep na zemljinoj kori (ili površini neke dr...\n",
      "                              ...                        \n",
      "4929    u računarstvu, grafički simbol (obično jendost...\n",
      "4930    Noćni miš iz starog sveta iz roda Apodemus živ...\n",
      "4931    posuđe sastavljeno od kompletnog seta (srebro ...\n",
      "4932                     neko ko daje savete o problemima\n",
      "4933    programske instrukcije zapisane kao ASCII teks...\n",
      "Name: X, Length: 4934, dtype: object\n",
      "Texts correctly classified as class 0 by the first model but not the second:\n",
      " 225            stanje bola ili patnje zbog lošeg zdravlja\n",
      "459                                   Biti u saglasnosti.\n",
      "1402    Koji nije u skladu sa metodama ili principima ...\n",
      "1438                    Koji je moralno lož ili pogrešan.\n",
      "1533                   Ne ostvariti ni profit ni gubitak.\n",
      "1568                       osobina atraktivno tanke osobe\n",
      "1608                   izuzetno loš ili nezadovoljavajući\n",
      "2091            neprijatno ili razočaravajuće iznenađenje\n",
      "2157                    koji izaziva ili zaslužuje mržnju\n",
      "2289              imati neželjene ili negativne kvalitete\n",
      "2767                 Nešto što se koristi za ulepšavanje.\n",
      "2836                        dostići i eventualno prestići\n",
      "3021                                  Koji nije potreban.\n",
      "3203                     Posedovanje materijalnih dobara.\n",
      "4094    koji se trenutno koristi ili je spreman za upo...\n",
      "4911    rad koji se obavlja sa drugima radi zajedničko...\n",
      "5014     Na primer, o vukanima; koji trajno nije aktivan.\n",
      "Name: X, dtype: object\n",
      "Texts correctly classified as class 0 by the second model but not the first:\n",
      " 138     Odsustvo kvaliteta koji bi činili nešto vredni...\n",
      "1017                              zlonamerno zadovoljstvo\n",
      "1024                Znanje i vrednosti koje društvo deli.\n",
      "2156                      Kvalitet onog ko nije brižljiv.\n",
      "4737                               nešto što ima vrednost\n",
      "Name: X, dtype: object\n"
     ]
    }
   ],
   "source": [
    "TestLLM.compare_models(4, \"POS\", \"BERTic\", \"SRGPT\", compare_other_class=True)"
   ]
  },
  {
   "cell_type": "code",
   "execution_count": null,
   "id": "2bc42bd8-14d0-4e3d-9eea-fa62454715b7",
   "metadata": {},
   "outputs": [
    {
     "name": "stdout",
     "output_type": "stream",
     "text": [
      "Texts correctly classified as class 0 by both models:\n",
      " 0       Prostorno svojstvo: način na koji je nešto sme...\n",
      "1       Republika u severnoj Evropi; stekla nezavisnos...\n",
      "2       Vodozemci samo sa jednim, prednjim parom nogu....\n",
      "3            grupa koralnih ostrva u istočnoj Mikroneziji\n",
      "4       koji je pisan kurzivnom formom staroegipatskog...\n",
      "                              ...                        \n",
      "4941    Vrlo rasprostranjena porodica uglavnom tropsko...\n",
      "4942    elektronski uređaj koji predstavlja informacij...\n",
      "4943                             koji može da se redukuje\n",
      "4944    mesto opremljeno instrumentima za testiranje u...\n",
      "4945                                   deo štampanog rada\n",
      "Name: X, Length: 4946, dtype: object\n",
      "Texts correctly classified as class 0 by the first model but not the second:\n",
      " 10      briga o razlikovanju dobra i zla ili pravednog...\n",
      "37           Koji ima veseo karkater, nije sklon brigama.\n",
      "584     biti u stanju mirovanja; biti u situaciji koja...\n",
      "787     smear with blood, as in a hunting initiation r...\n",
      "795     Oporavak ili način čuvanja od gubitka ili opas...\n",
      "1101                           Pisanje koje nije u stihu.\n",
      "1110    neaktivan vulkan na Siciliji, poslednja erupci...\n",
      "1421          govoriti nerazumljivo u religijskoj ekstazi\n",
      "1471    Proizvesti ili stvoriti proizvod stvoren ljuds...\n",
      "1506    Zaklanjati od opasnosti, povrede, uništenja il...\n",
      "1716    zabranjeno zakonom ili zvanično usvojenim prav...\n",
      "1883       ozloglašenost zbog neke posebne karakteristike\n",
      "2137    Izjaviti za nekoga da nije kriv po krivičnim o...\n",
      "2174                               odbrana protiv gubitka\n",
      "2280    presuda(odluka) da optuženi nije kriv, odluka ...\n",
      "2695    osobina da se radi ono što je ispravno i da se...\n",
      "2908          stanje zatočenosti (obično za kratko vreme)\n",
      "2946    osobina onoga koji ne odustaje od svoje ideje,...\n",
      "2948    Koji je pred erupcijom ili izbacuje lavu (o vu...\n",
      "3171                  Ubiti velik broj ljudi bez razlike.\n",
      "3365                                           rod tuplia\n",
      "3391               Nezavistan, nije spojen ili sjedinjen.\n",
      "3731    koji ima tu funkciju da izvršava planove ili n...\n",
      "4146                               koji nema noge (udove)\n",
      "4205                     Odnos nečega prema nečem drugom.\n",
      "4834                 Koji može da se desi ili da postoji.\n",
      "Name: X, dtype: object\n",
      "Texts correctly classified as class 0 by the second model but not the first:\n",
      " 299                                      Čin zagađivanja.\n",
      "680       koji pobuđuje poštovanje, divljenje ili čuđenje\n",
      "859                 Naljutiti, posebno nevažnim uzrocima.\n",
      "1144                         Prekinuti nečije zaposlenje.\n",
      "2233                                    Učiniti nečistim.\n",
      "3083           Osoba koja krši morlne ili zakonske norme.\n",
      "3134                  brutalan, varvarski i divljački čin\n",
      "3282                                    Čin opstruiranja.\n",
      "3373                                      Učiniti slabim.\n",
      "3401    svako ko veruje da nije u stanju da promeni sv...\n",
      "3836             Ubijanje čoveka od strane drugog čoveka.\n",
      "4348                         čiju smrt nenamerno izazvati\n",
      "4510    obilno krvarenje kao posledica povrede krvnog ...\n",
      "4512                           zloupotreba javne funkcije\n",
      "4629                                          grozničnica\n",
      "4686    Gubitak novca ili smanjenje finansijske vredno...\n",
      "4697                      Čovek koji nema nikakve titule.\n",
      "4707                                      preterano velik\n",
      "4850                                        lišiti života\n",
      "5002                             Stanje bolje od ranijeg.\n",
      "Name: X, dtype: object\n"
     ]
    }
   ],
   "source": [
    "TestLLM.compare_models(4, \"NEG\", \"BERTic\", \"SRGPT\", compare_other_class=True)"
   ]
  },
  {
   "cell_type": "code",
   "execution_count": null,
   "id": "e492f412-95f9-48bc-856d-e65effc1c901",
   "metadata": {},
   "outputs": [],
   "source": []
  },
  {
   "cell_type": "code",
   "execution_count": null,
   "id": "db645053-f8eb-4ba3-86c7-ee4c6eba3f67",
   "metadata": {},
   "outputs": [
    {
     "name": "stdout",
     "output_type": "stream",
     "text": [
      "[[3963  940]\n",
      " [  46    8]]\n",
      "              precision    recall  f1-score   support\n",
      "\n",
      "           0       0.99      0.81      0.89      4903\n",
      "           1       0.01      0.15      0.02        54\n",
      "\n",
      "    accuracy                           0.80      4957\n",
      "   macro avg       0.50      0.48      0.45      4957\n",
      "weighted avg       0.98      0.80      0.88      4957\n",
      "\n"
     ]
    }
   ],
   "source": [
    "TestLLM.test_model(0, \"NEG\", \"BERTicovo\")"
   ]
  },
  {
   "cell_type": "code",
   "execution_count": null,
   "id": "3fe1e5d6-d332-4304-8473-f0fd961bf684",
   "metadata": {},
   "outputs": [
    {
     "name": "stdout",
     "output_type": "stream",
     "text": [
      "[[3946  974]\n",
      " [  31    6]]\n",
      "              precision    recall  f1-score   support\n",
      "\n",
      "           0       0.99      0.80      0.89      4920\n",
      "           1       0.01      0.16      0.01        37\n",
      "\n",
      "    accuracy                           0.80      4957\n",
      "   macro avg       0.50      0.48      0.45      4957\n",
      "weighted avg       0.98      0.80      0.88      4957\n",
      "\n"
     ]
    }
   ],
   "source": [
    "TestLLM.test_model(0, \"POS\", \"BERTicovo\")"
   ]
  },
  {
   "cell_type": "code",
   "execution_count": null,
   "id": "9b5701b9-3573-4ea0-99a0-c8bc77b87062",
   "metadata": {},
   "outputs": [
    {
     "name": "stdout",
     "output_type": "stream",
     "text": [
      "[[3968  964]\n",
      " [  65   11]]\n",
      "              precision    recall  f1-score   support\n",
      "\n",
      "           0       0.98      0.80      0.89      4932\n",
      "           1       0.01      0.14      0.02        76\n",
      "\n",
      "    accuracy                           0.79      5008\n",
      "   macro avg       0.50      0.47      0.45      5008\n",
      "weighted avg       0.97      0.79      0.87      5008\n",
      "\n"
     ]
    }
   ],
   "source": [
    "TestLLM.test_model(2, \"NEG\", \"BERTicovo\")"
   ]
  },
  {
   "cell_type": "code",
   "execution_count": null,
   "id": "d0a023f5-8043-4b75-8a1e-95855d27adff",
   "metadata": {},
   "outputs": [
    {
     "name": "stdout",
     "output_type": "stream",
     "text": [
      "[[3946  996]\n",
      " [  55   11]]\n",
      "              precision    recall  f1-score   support\n",
      "\n",
      "           0       0.99      0.80      0.88      4942\n",
      "           1       0.01      0.17      0.02        66\n",
      "\n",
      "    accuracy                           0.79      5008\n",
      "   macro avg       0.50      0.48      0.45      5008\n",
      "weighted avg       0.97      0.79      0.87      5008\n",
      "\n"
     ]
    }
   ],
   "source": [
    "TestLLM.test_model(2, \"POS\", \"BERTicovo\")"
   ]
  },
  {
   "cell_type": "code",
   "execution_count": null,
   "id": "abb9d0ef-0de5-45e7-a5b0-2adf49de94d7",
   "metadata": {},
   "outputs": [
    {
     "name": "stdout",
     "output_type": "stream",
     "text": [
      "[[3969  969]\n",
      " [  63   17]]\n",
      "              precision    recall  f1-score   support\n",
      "\n",
      "           0       0.98      0.80      0.88      4938\n",
      "           1       0.02      0.21      0.03        80\n",
      "\n",
      "    accuracy                           0.79      5018\n",
      "   macro avg       0.50      0.51      0.46      5018\n",
      "weighted avg       0.97      0.79      0.87      5018\n",
      "\n"
     ]
    }
   ],
   "source": [
    "TestLLM.test_model(4, \"NEG\", \"BERTicovo\")"
   ]
  },
  {
   "cell_type": "code",
   "execution_count": null,
   "id": "cd070001-862c-4966-955a-22ce4112807c",
   "metadata": {},
   "outputs": [
    {
     "name": "stdout",
     "output_type": "stream",
     "text": [
      "[[3968  978]\n",
      " [  57   15]]\n",
      "              precision    recall  f1-score   support\n",
      "\n",
      "           0       0.99      0.80      0.88      4946\n",
      "           1       0.02      0.21      0.03        72\n",
      "\n",
      "    accuracy                           0.79      5018\n",
      "   macro avg       0.50      0.51      0.46      5018\n",
      "weighted avg       0.97      0.79      0.87      5018\n",
      "\n"
     ]
    }
   ],
   "source": [
    "TestLLM.test_model(4, \"POS\", \"BERTicovo\")"
   ]
  },
  {
   "cell_type": "code",
   "execution_count": null,
   "id": "28719c7f-c158-4de1-a514-aa905409650e",
   "metadata": {},
   "outputs": [
    {
     "name": "stdout",
     "output_type": "stream",
     "text": [
      "[[3993  946]\n",
      " [  65   19]]\n",
      "              precision    recall  f1-score   support\n",
      "\n",
      "           0       0.98      0.81      0.89      4939\n",
      "           1       0.02      0.23      0.04        84\n",
      "\n",
      "    accuracy                           0.80      5023\n",
      "   macro avg       0.50      0.52      0.46      5023\n",
      "weighted avg       0.97      0.80      0.87      5023\n",
      "\n"
     ]
    }
   ],
   "source": [
    "TestLLM.test_model(6, \"NEG\", \"BERTicovo\")"
   ]
  },
  {
   "cell_type": "code",
   "execution_count": null,
   "id": "15de23c1-885f-4a3d-a37e-18bd6ea9acbc",
   "metadata": {},
   "outputs": [
    {
     "name": "stdout",
     "output_type": "stream",
     "text": [
      "[[3964  986]\n",
      " [  56   17]]\n",
      "              precision    recall  f1-score   support\n",
      "\n",
      "           0       0.99      0.80      0.88      4950\n",
      "           1       0.02      0.23      0.03        73\n",
      "\n",
      "    accuracy                           0.79      5023\n",
      "   macro avg       0.50      0.52      0.46      5023\n",
      "weighted avg       0.97      0.79      0.87      5023\n",
      "\n"
     ]
    }
   ],
   "source": [
    "TestLLM.test_model(6, \"POS\", \"BERTicovo\")"
   ]
  },
  {
   "cell_type": "code",
   "execution_count": 10,
   "id": "79502a19",
   "metadata": {},
   "outputs": [
    {
     "name": "stdout",
     "output_type": "stream",
     "text": [
      "[[4357   69]\n",
      " [  42   38]]\n",
      "              precision    recall  f1-score   support\n",
      "\n",
      "           0       0.99      0.98      0.99      4426\n",
      "           1       0.36      0.47      0.41        80\n",
      "\n",
      "    accuracy                           0.98      4506\n",
      "   macro avg       0.67      0.73      0.70      4506\n",
      "weighted avg       0.98      0.98      0.98      4506\n",
      "\n"
     ]
    }
   ],
   "source": [
    "TestLLM.test_model(4, \"NEG\", \"SRGPT\")"
   ]
  }
 ],
 "metadata": {
  "kernelspec": {
   "display_name": "Python 3 (ipykernel)",
   "language": "python",
   "name": "python3"
  },
  "language_info": {
   "codemirror_mode": {
    "name": "ipython",
    "version": 3
   },
   "file_extension": ".py",
   "mimetype": "text/x-python",
   "name": "python",
   "nbconvert_exporter": "python",
   "pygments_lexer": "ipython3",
   "version": "3.11.4"
  }
 },
 "nbformat": 4,
 "nbformat_minor": 5
}
