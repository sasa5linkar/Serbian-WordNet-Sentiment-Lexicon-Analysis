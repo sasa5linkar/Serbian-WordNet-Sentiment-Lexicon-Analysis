{
 "cells": [
  {
   "cell_type": "code",
   "execution_count": 13,
   "id": "051bdd64-a307-47b7-994a-43f080bf7c2f",
   "metadata": {},
   "outputs": [],
   "source": [
    "import sys\n",
    "sys.path.append('../')"
   ]
  },
  {
   "cell_type": "code",
   "execution_count": 1,
   "id": "67cd4c54-4a42-4f29-a9cc-910930d2daab",
   "metadata": {},
   "outputs": [],
   "source": [
    "i = 0\n",
    "polarity =\"NEG\""
   ]
  },
  {
   "cell_type": "code",
   "execution_count": 17,
   "id": "a16b72fe-1933-4494-834d-e1fd0d1c1eb1",
   "metadata": {},
   "outputs": [],
   "source": [
    "from transformers import pipeline \n",
    "import pandas as pd\n",
    "import os\n",
    "ROOT_DIR = '../'\n",
    "RES_DIR = os.path.join(ROOT_DIR, \"resources\")\n",
    "MOD_DIR = os.path.join(ROOT_DIR, \"ml_models\")\n",
    "TRAIN_DIR = os.path.join(ROOT_DIR, \"train_sets\")\n",
    "REP_DIR = os.path.join(ROOT_DIR, \"reports\", \"BERTicTEst\")"
   ]
  },
  {
   "cell_type": "code",
   "execution_count": 25,
   "id": "d6eb9729-9047-4d6b-903a-0af013f4e2f1",
   "metadata": {},
   "outputs": [],
   "source": [
    "model_name = f\"Tanor/BERTovoSENT{polarity}{i}\""
   ]
  },
  {
   "cell_type": "code",
   "execution_count": 20,
   "id": "8eeb2fe6-c7e0-436a-8b6e-79e4b2e3593f",
   "metadata": {},
   "outputs": [],
   "source": [
    "# Construct file name\n",
    "name = f\"UP{polarity}{i}.csv\"\n",
    "\n",
    "# Load the test data\n",
    "X_test = pd.read_csv(os.path.join(TRAIN_DIR, f\"X_test_{name}\"))[\"Sysnet\"]\n",
    "y_test = pd.read_csv(os.path.join(TRAIN_DIR, f\"y_test_{name}\"))[polarity]"
   ]
  },
  {
   "cell_type": "code",
   "execution_count": 27,
   "id": "ac3132e7-4bfb-4d6e-840d-696b3e146eb6",
   "metadata": {},
   "outputs": [
    {
     "data": {
      "application/vnd.jupyter.widget-view+json": {
       "model_id": "23f9f647ff734059be193dc7bbedabff",
       "version_major": 2,
       "version_minor": 0
      },
      "text/plain": [
       "Downloading (…)cial_tokens_map.json:   0%|          | 0.00/280 [00:00<?, ?B/s]"
      ]
     },
     "metadata": {},
     "output_type": "display_data"
    }
   ],
   "source": [
    "# Load model using pipeline\n",
    "pipe = pipeline(\"text-classification\", model=model_name)\n",
    "\n",
    "# Define label to id mapping\n",
    "label2id = {\"NON-POSITIVE\": 0, \"POSITIVE\": 1}\n",
    "if (polarity ==\"NEG\"):\n",
    "    label2id = {\"NON-NEGATIVE\": 0, \"NEGATIVE\": 1}\n",
    "\n",
    "# Process test data through pipeline\n",
    "data = pipe(X_test.to_list())\n",
    "\n",
    "# Convert the list of dictionaries into a pandas DataFrame\n",
    "df = pd.DataFrame(data)"
   ]
  },
  {
   "cell_type": "code",
   "execution_count": 35,
   "id": "8ea4bab0-a18f-45e4-96d1-edbe4137e727",
   "metadata": {},
   "outputs": [
    {
     "data": {
      "text/html": [
       "<div>\n",
       "<style scoped>\n",
       "    .dataframe tbody tr th:only-of-type {\n",
       "        vertical-align: middle;\n",
       "    }\n",
       "\n",
       "    .dataframe tbody tr th {\n",
       "        vertical-align: top;\n",
       "    }\n",
       "\n",
       "    .dataframe thead th {\n",
       "        text-align: right;\n",
       "    }\n",
       "</style>\n",
       "<table border=\"1\" class=\"dataframe\">\n",
       "  <thead>\n",
       "    <tr style=\"text-align: right;\">\n",
       "      <th></th>\n",
       "      <th>label</th>\n",
       "      <th>score</th>\n",
       "    </tr>\n",
       "  </thead>\n",
       "  <tbody>\n",
       "    <tr>\n",
       "      <th>0</th>\n",
       "      <td>NaN</td>\n",
       "      <td>0.999542</td>\n",
       "    </tr>\n",
       "    <tr>\n",
       "      <th>1</th>\n",
       "      <td>NaN</td>\n",
       "      <td>0.999323</td>\n",
       "    </tr>\n",
       "    <tr>\n",
       "      <th>2</th>\n",
       "      <td>NaN</td>\n",
       "      <td>0.999571</td>\n",
       "    </tr>\n",
       "    <tr>\n",
       "      <th>3</th>\n",
       "      <td>NaN</td>\n",
       "      <td>0.999467</td>\n",
       "    </tr>\n",
       "    <tr>\n",
       "      <th>4</th>\n",
       "      <td>NaN</td>\n",
       "      <td>0.997156</td>\n",
       "    </tr>\n",
       "    <tr>\n",
       "      <th>...</th>\n",
       "      <td>...</td>\n",
       "      <td>...</td>\n",
       "    </tr>\n",
       "    <tr>\n",
       "      <th>4952</th>\n",
       "      <td>NaN</td>\n",
       "      <td>0.999221</td>\n",
       "    </tr>\n",
       "    <tr>\n",
       "      <th>4953</th>\n",
       "      <td>NaN</td>\n",
       "      <td>0.995341</td>\n",
       "    </tr>\n",
       "    <tr>\n",
       "      <th>4954</th>\n",
       "      <td>NaN</td>\n",
       "      <td>0.998199</td>\n",
       "    </tr>\n",
       "    <tr>\n",
       "      <th>4955</th>\n",
       "      <td>NaN</td>\n",
       "      <td>0.999531</td>\n",
       "    </tr>\n",
       "    <tr>\n",
       "      <th>4956</th>\n",
       "      <td>NaN</td>\n",
       "      <td>0.999541</td>\n",
       "    </tr>\n",
       "  </tbody>\n",
       "</table>\n",
       "<p>4957 rows × 2 columns</p>\n",
       "</div>"
      ],
      "text/plain": [
       "      label     score\n",
       "0       NaN  0.999542\n",
       "1       NaN  0.999323\n",
       "2       NaN  0.999571\n",
       "3       NaN  0.999467\n",
       "4       NaN  0.997156\n",
       "...     ...       ...\n",
       "4952    NaN  0.999221\n",
       "4953    NaN  0.995341\n",
       "4954    NaN  0.998199\n",
       "4955    NaN  0.999531\n",
       "4956    NaN  0.999541\n",
       "\n",
       "[4957 rows x 2 columns]"
      ]
     },
     "execution_count": 35,
     "metadata": {},
     "output_type": "execute_result"
    }
   ],
   "source": [
    "df"
   ]
  },
  {
   "cell_type": "code",
   "execution_count": 30,
   "id": "1a6c32cb-36b8-4f38-a80e-f6ce173d67ea",
   "metadata": {},
   "outputs": [
    {
     "data": {
      "text/html": [
       "<div>\n",
       "<style scoped>\n",
       "    .dataframe tbody tr th:only-of-type {\n",
       "        vertical-align: middle;\n",
       "    }\n",
       "\n",
       "    .dataframe tbody tr th {\n",
       "        vertical-align: top;\n",
       "    }\n",
       "\n",
       "    .dataframe thead th {\n",
       "        text-align: right;\n",
       "    }\n",
       "</style>\n",
       "<table border=\"1\" class=\"dataframe\">\n",
       "  <thead>\n",
       "    <tr style=\"text-align: right;\">\n",
       "      <th></th>\n",
       "      <th>label</th>\n",
       "      <th>score</th>\n",
       "    </tr>\n",
       "  </thead>\n",
       "  <tbody>\n",
       "  </tbody>\n",
       "</table>\n",
       "</div>"
      ],
      "text/plain": [
       "Empty DataFrame\n",
       "Columns: [label, score]\n",
       "Index: []"
      ]
     },
     "execution_count": 30,
     "metadata": {},
     "output_type": "execute_result"
    }
   ],
   "source": [
    "df[df.isnull().any(axis=1)]"
   ]
  },
  {
   "cell_type": "code",
   "execution_count": 34,
   "id": "95866bff-8a3a-422e-b695-4e5cfa74eeb0",
   "metadata": {},
   "outputs": [
    {
     "data": {
      "text/plain": [
       "array([nan])"
      ]
     },
     "execution_count": 34,
     "metadata": {},
     "output_type": "execute_result"
    }
   ],
   "source": [
    "df['label'].unique()\n"
   ]
  },
  {
   "cell_type": "code",
   "execution_count": 32,
   "id": "de4ef46c-cd49-480d-adca-e377e9f21e25",
   "metadata": {},
   "outputs": [
    {
     "data": {
      "text/plain": [
       "{'NON-NEGATIVE': 0, 'NEGATIVE': 1}"
      ]
     },
     "execution_count": 32,
     "metadata": {},
     "output_type": "execute_result"
    }
   ],
   "source": [
    "label2id"
   ]
  },
  {
   "cell_type": "code",
   "execution_count": 33,
   "id": "00c8ca0c-cc1e-43d9-900b-5f0705eacccb",
   "metadata": {},
   "outputs": [],
   "source": [
    "df['label'] = df['label'].map({'NON-POSITIVE': 0, 'POSITIVE': 1})"
   ]
  }
 ],
 "metadata": {
  "kernelspec": {
   "display_name": "Python 3 (ipykernel)",
   "language": "python",
   "name": "python3"
  },
  "language_info": {
   "codemirror_mode": {
    "name": "ipython",
    "version": 3
   },
   "file_extension": ".py",
   "mimetype": "text/x-python",
   "name": "python",
   "nbconvert_exporter": "python",
   "pygments_lexer": "ipython3",
   "version": "3.11.4"
  }
 },
 "nbformat": 4,
 "nbformat_minor": 5
}
